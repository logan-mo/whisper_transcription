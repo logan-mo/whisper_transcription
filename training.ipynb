{
 "cells": [
  {
   "cell_type": "markdown",
   "metadata": {},
   "source": [
    "# Data Preparation"
   ]
  },
  {
   "cell_type": "code",
   "execution_count": 10,
   "metadata": {},
   "outputs": [],
   "source": [
    "from google.cloud import storage\n",
    "import os\n",
    "import zipfile"
   ]
  },
  {
   "cell_type": "code",
   "execution_count": null,
   "metadata": {},
   "outputs": [],
   "source": [
    "if not os.path.exists(\"data\"):\n",
    "    os.mkdir(\"data\")\n",
    "if not os.path.exists(os.path.join('data', 'bismillah')):\n",
    "    os.mkdir(os.path.join('data', 'bismillah'))\n",
    "if not os.path.exists('zip_files'):\n",
    "    os.mkdir('zip_files')"
   ]
  },
  {
   "cell_type": "code",
   "execution_count": null,
   "metadata": {},
   "outputs": [],
   "source": [
    "storage_client = storage.Client(\"[whisper-arabic-transcription]\")\n",
    "bucket = storage_client.get_bucket('recitation_dataset')\n",
    "blobs = list(storage_client.list_blobs('recitation_dataset'))"
   ]
  },
  {
   "cell_type": "code",
   "execution_count": null,
   "metadata": {},
   "outputs": [],
   "source": []
  },
  {
   "cell_type": "code",
   "execution_count": 14,
   "metadata": {},
   "outputs": [],
   "source": [
    "output_path = os.path.join('data', 'bismillah')\n",
    "\n",
    "for blob in blobs:\n",
    "    zip_name = os.path.join('zip_files', blob.name)\n",
    "    blob.download_to_filename(zip_name)\n",
    "    with zipfile.ZipFile(zip_name,\"r\") as zip_ref:\n",
    "        zip_ref.extractall(os.path.join('data', 'bismillah'))"
   ]
  },
  {
   "cell_type": "markdown",
   "metadata": {},
   "source": [
    "# Training"
   ]
  },
  {
   "cell_type": "code",
   "execution_count": null,
   "metadata": {},
   "outputs": [],
   "source": [
    "!pip install torch torchaudio --index-url https://download.pytorch.org/whl/cu117"
   ]
  },
  {
   "cell_type": "code",
   "execution_count": null,
   "metadata": {},
   "outputs": [],
   "source": [
    "!pip install transformers datasets huggingsound"
   ]
  },
  {
   "cell_type": "code",
   "execution_count": 35,
   "metadata": {},
   "outputs": [],
   "source": [
    "from huggingsound import TrainingArguments, ModelArguments, SpeechRecognitionModel, TokenSet\n",
    "import pandas as pd\n",
    "import json"
   ]
  },
  {
   "cell_type": "code",
   "execution_count": 37,
   "metadata": {},
   "outputs": [],
   "source": [
    "with open(\"vocab.json\", \"r\", encoding=\"utf8\") as f:\n",
    "    results = json.load(f)\n",
    "    vocab = [x for x,y in results.items()]\n",
    "token_set = TokenSet(vocab)"
   ]
  },
  {
   "cell_type": "code",
   "execution_count": null,
   "metadata": {},
   "outputs": [],
   "source": [
    "model = SpeechRecognitionModel(\"jonatasgrosman/wav2vec2-large-xlsr-53-arabic\")\n",
    "output_dir = \"saved_models\""
   ]
  },
  {
   "cell_type": "code",
   "execution_count": 38,
   "metadata": {},
   "outputs": [],
   "source": [
    "df = pd.read_csv(\"final_dataset.csv\", encoding=\"utf8\")\n",
    "df.rename(columns={\"aayah\": \"transcription\", \"audio_paths\": \"path\"}, inplace=True)\n",
    "train_data = [df.iloc[i].to_dict() for i in range(len(df))]"
   ]
  },
  {
   "cell_type": "code",
   "execution_count": 39,
   "metadata": {},
   "outputs": [
    {
     "data": {
      "text/plain": [
       "150315"
      ]
     },
     "execution_count": 39,
     "metadata": {},
     "output_type": "execute_result"
    }
   ],
   "source": [
    "len(train_data)"
   ]
  },
  {
   "cell_type": "code",
   "execution_count": null,
   "metadata": {},
   "outputs": [],
   "source": [
    "# and finally, fine-tune your model\n",
    "model.finetune(\n",
    "    output_dir, \n",
    "    train_data=train_data, \n",
    "    token_set=token_set,\n",
    ")"
   ]
  }
 ],
 "metadata": {
  "kernelspec": {
   "display_name": ".venv",
   "language": "python",
   "name": "python3"
  },
  "language_info": {
   "codemirror_mode": {
    "name": "ipython",
    "version": 3
   },
   "file_extension": ".py",
   "mimetype": "text/x-python",
   "name": "python",
   "nbconvert_exporter": "python",
   "pygments_lexer": "ipython3",
   "version": "3.10.11"
  },
  "orig_nbformat": 4
 },
 "nbformat": 4,
 "nbformat_minor": 2
}
