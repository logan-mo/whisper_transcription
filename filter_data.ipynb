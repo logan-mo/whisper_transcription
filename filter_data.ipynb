{
 "cells": [
  {
   "cell_type": "markdown",
   "metadata": {},
   "source": [
    "## Remove Bismillah"
   ]
  },
  {
   "cell_type": "code",
   "execution_count": null,
   "metadata": {},
   "outputs": [],
   "source": [
    "import pandas as pd"
   ]
  },
  {
   "cell_type": "code",
   "execution_count": null,
   "metadata": {},
   "outputs": [],
   "source": [
    "df = pd.read_csv('Arabic-Original.csv', header=None, names=['surah_number', 'aayah_number', 'transcription'], delimiter='|')\n",
    "\n",
    "df.head(10)"
   ]
  },
  {
   "cell_type": "code",
   "execution_count": null,
   "metadata": {},
   "outputs": [],
   "source": [
    "df.shape"
   ]
  },
  {
   "cell_type": "code",
   "execution_count": null,
   "metadata": {},
   "outputs": [],
   "source": [
    "df = df.query('aayah_number != 1')"
   ]
  },
  {
   "cell_type": "code",
   "execution_count": null,
   "metadata": {},
   "outputs": [],
   "source": [
    "df.shape"
   ]
  },
  {
   "cell_type": "code",
   "execution_count": null,
   "metadata": {},
   "outputs": [],
   "source": [
    "df.to_csv('Arabic-Original-no-bismillah.csv', index=False)"
   ]
  },
  {
   "cell_type": "code",
   "execution_count": null,
   "metadata": {},
   "outputs": [],
   "source": []
  },
  {
   "cell_type": "markdown",
   "metadata": {},
   "source": [
    "## Create transcription dataset file"
   ]
  },
  {
   "cell_type": "code",
   "execution_count": 1,
   "metadata": {},
   "outputs": [
    {
     "name": "stderr",
     "output_type": "stream",
     "text": [
      "f:\\Productivity\\Github-Repos\\whisper_transcription\\.venv\\lib\\site-packages\\tqdm\\auto.py:21: TqdmWarning: IProgress not found. Please update jupyter and ipywidgets. See https://ipywidgets.readthedocs.io/en/stable/user_install.html\n",
      "  from .autonotebook import tqdm as notebook_tqdm\n"
     ]
    }
   ],
   "source": [
    "import pandas as pd\n",
    "import swifter\n",
    "import os\n",
    "import glob\n",
    "import librosa"
   ]
  },
  {
   "cell_type": "code",
   "execution_count": 2,
   "metadata": {},
   "outputs": [
    {
     "data": {
      "text/html": [
       "<div>\n",
       "<style scoped>\n",
       "    .dataframe tbody tr th:only-of-type {\n",
       "        vertical-align: middle;\n",
       "    }\n",
       "\n",
       "    .dataframe tbody tr th {\n",
       "        vertical-align: top;\n",
       "    }\n",
       "\n",
       "    .dataframe thead th {\n",
       "        text-align: right;\n",
       "    }\n",
       "</style>\n",
       "<table border=\"1\" class=\"dataframe\">\n",
       "  <thead>\n",
       "    <tr style=\"text-align: right;\">\n",
       "      <th></th>\n",
       "      <th>surah_number</th>\n",
       "      <th>aayah_number</th>\n",
       "      <th>transcription</th>\n",
       "    </tr>\n",
       "  </thead>\n",
       "  <tbody>\n",
       "    <tr>\n",
       "      <th>0</th>\n",
       "      <td>1</td>\n",
       "      <td>2</td>\n",
       "      <td>الْحَمْدُ لِلَّهِ رَبِّ الْعَالَمِينَ</td>\n",
       "    </tr>\n",
       "    <tr>\n",
       "      <th>1</th>\n",
       "      <td>1</td>\n",
       "      <td>3</td>\n",
       "      <td>الرَّحْمَٰنِ الرَّحِيمِ</td>\n",
       "    </tr>\n",
       "    <tr>\n",
       "      <th>2</th>\n",
       "      <td>1</td>\n",
       "      <td>4</td>\n",
       "      <td>مَالِكِ يَوْمِ الدِّينِ</td>\n",
       "    </tr>\n",
       "    <tr>\n",
       "      <th>3</th>\n",
       "      <td>1</td>\n",
       "      <td>5</td>\n",
       "      <td>إِيَّاكَ نَعْبُدُ وَإِيَّاكَ نَسْتَعِينُ</td>\n",
       "    </tr>\n",
       "    <tr>\n",
       "      <th>4</th>\n",
       "      <td>1</td>\n",
       "      <td>6</td>\n",
       "      <td>اهْدِنَا الصِّرَاطَ الْمُسْتَقِيمَ</td>\n",
       "    </tr>\n",
       "    <tr>\n",
       "      <th>5</th>\n",
       "      <td>1</td>\n",
       "      <td>7</td>\n",
       "      <td>صِرَاطَ الَّذِينَ أَنْعَمْتَ عَلَيْهِمْ غَيْرِ...</td>\n",
       "    </tr>\n",
       "    <tr>\n",
       "      <th>6</th>\n",
       "      <td>2</td>\n",
       "      <td>2</td>\n",
       "      <td>ذَٰلِكَ الْكِتَابُ لَا رَيْبَ ۛ فِيهِ ۛ هُدًى ...</td>\n",
       "    </tr>\n",
       "    <tr>\n",
       "      <th>7</th>\n",
       "      <td>2</td>\n",
       "      <td>3</td>\n",
       "      <td>الَّذِينَ يُؤْمِنُونَ بِالْغَيْبِ وَيُقِيمُونَ...</td>\n",
       "    </tr>\n",
       "    <tr>\n",
       "      <th>8</th>\n",
       "      <td>2</td>\n",
       "      <td>4</td>\n",
       "      <td>وَالَّذِينَ يُؤْمِنُونَ بِمَا أُنْزِلَ إِلَيْك...</td>\n",
       "    </tr>\n",
       "    <tr>\n",
       "      <th>9</th>\n",
       "      <td>2</td>\n",
       "      <td>5</td>\n",
       "      <td>أُولَٰئِكَ عَلَىٰ هُدًى مِنْ رَبِّهِمْ ۖ وَأُو...</td>\n",
       "    </tr>\n",
       "  </tbody>\n",
       "</table>\n",
       "</div>"
      ],
      "text/plain": [
       "   surah_number  aayah_number  \\\n",
       "0             1             2   \n",
       "1             1             3   \n",
       "2             1             4   \n",
       "3             1             5   \n",
       "4             1             6   \n",
       "5             1             7   \n",
       "6             2             2   \n",
       "7             2             3   \n",
       "8             2             4   \n",
       "9             2             5   \n",
       "\n",
       "                                       transcription  \n",
       "0              الْحَمْدُ لِلَّهِ رَبِّ الْعَالَمِينَ  \n",
       "1                            الرَّحْمَٰنِ الرَّحِيمِ  \n",
       "2                            مَالِكِ يَوْمِ الدِّينِ  \n",
       "3           إِيَّاكَ نَعْبُدُ وَإِيَّاكَ نَسْتَعِينُ  \n",
       "4                 اهْدِنَا الصِّرَاطَ الْمُسْتَقِيمَ  \n",
       "5  صِرَاطَ الَّذِينَ أَنْعَمْتَ عَلَيْهِمْ غَيْرِ...  \n",
       "6  ذَٰلِكَ الْكِتَابُ لَا رَيْبَ ۛ فِيهِ ۛ هُدًى ...  \n",
       "7  الَّذِينَ يُؤْمِنُونَ بِالْغَيْبِ وَيُقِيمُونَ...  \n",
       "8  وَالَّذِينَ يُؤْمِنُونَ بِمَا أُنْزِلَ إِلَيْك...  \n",
       "9  أُولَٰئِكَ عَلَىٰ هُدًى مِنْ رَبِّهِمْ ۖ وَأُو...  "
      ]
     },
     "execution_count": 2,
     "metadata": {},
     "output_type": "execute_result"
    }
   ],
   "source": [
    "df = pd.read_csv('Arabic-Original-no-bismillah.csv')\n",
    "df.head(10)"
   ]
  },
  {
   "cell_type": "code",
   "execution_count": 3,
   "metadata": {},
   "outputs": [
    {
     "data": {
      "text/plain": [
       "(6122, 3)"
      ]
     },
     "execution_count": 3,
     "metadata": {},
     "output_type": "execute_result"
    }
   ],
   "source": [
    "df.shape"
   ]
  },
  {
   "cell_type": "code",
   "execution_count": 4,
   "metadata": {},
   "outputs": [],
   "source": [
    "base_dir = 'F:\\\\Productivity\\\\Work\\\\Furqan\\\\data\\\\bismillah'"
   ]
  },
  {
   "cell_type": "code",
   "execution_count": 5,
   "metadata": {},
   "outputs": [
    {
     "data": {
      "text/plain": [
       "['Abdullaah_3awwaad_Al-Juhaynee_128kbps',\n",
       " 'Abdullah_Basfar_192kbps',\n",
       " 'Abdullah_Matroud_128kbps',\n",
       " 'AbdulSamad_64kbps_QuranExplorer.Com',\n",
       " 'Abdul_Basit_Mujawwad_128kbps',\n",
       " 'Abdul_Basit_Murattal_192kbps',\n",
       " 'Abdurrahmaan_As-Sudais_192kbps',\n",
       " 'Abu_Bakr_Ash-Shaatree_128kbps',\n",
       " 'Ahmed_ibn_Ali_al-Ajamy_128kbps_ketaballah.net',\n",
       " 'ahmed_ibn_ali_al_ajamy_128kbps',\n",
       " 'Ahmed_Neana_128kbps',\n",
       " 'Akram_AlAlaqimy_128kbps',\n",
       " 'Alafasy_128kbps',\n",
       " 'Ali_Hajjaj_AlSuesy_128kbps',\n",
       " 'Ayman_Sowaid_64kbps',\n",
       " 'Fares_Abbad_64kbps',\n",
       " 'Ghamadi_40kbps',\n",
       " 'Hani_Rifai_192kbps',\n",
       " 'Hudhaify_128kbps',\n",
       " 'Husary_128kbps',\n",
       " 'Husary_128kbps_Mujawwad',\n",
       " 'Husary_Muallim_128kbps',\n",
       " 'Khaalid_Abdullaah_al-Qahtaanee_192kbps',\n",
       " 'MaherAlMuaiqly128kbps',\n",
       " 'Menshawi_16kbps',\n",
       " 'Minshawy_Murattal_128kbps',\n",
       " 'Mohammad_al_Tablaway_128kbps',\n",
       " 'Muhammad_AbdulKareem_128kbps',\n",
       " 'Muhammad_Ayyoub_128kbps',\n",
       " 'Muhammad_Jibreel_128kbps',\n",
       " 'Muhsin_Al_Qasim_192kbps',\n",
       " 'Nabil_Rifa3i_48kbps',\n",
       " 'Nasser_Alqatami_128kbps',\n",
       " 'Sahl_Yassin_128kbps',\n",
       " 'Salaah_AbdulRahman_Bukhatir_128kbps',\n",
       " 'Salah_Al_Budair_128kbps',\n",
       " 'Yaser_Salamah_128kbps']"
      ]
     },
     "execution_count": 5,
     "metadata": {},
     "output_type": "execute_result"
    }
   ],
   "source": [
    "imam_items = os.listdir(base_dir)\n",
    "imam_dirs = [item for item in imam_items if os.path.isdir(os.path.join(base_dir, item))]\n",
    "imam_dirs"
   ]
  },
  {
   "cell_type": "code",
   "execution_count": 6,
   "metadata": {},
   "outputs": [],
   "source": [
    "def get_aayah_df(imam_dir):\n",
    "    aayah_files = glob.glob(os.path.join(base_dir, imam_dir, '*.mp3'))\n",
    "    df = pd.DataFrame(aayah_files, columns=['file_path'])\n",
    "    df = pd.DataFrame(df['file_path'].str.split('\\\\', expand=True)[7])\n",
    "    df = pd.DataFrame(df[7].str.replace('.mp3', '').str.split('_', expand=True),).rename(columns={0: 'surah_number', 1: 'aayah_number'})\n",
    "    df['file_path'] = aayah_files \n",
    "    df['surah_number'] = df['surah_number'].astype(int)\n",
    "    df['aayah_number'] = df['aayah_number'].astype(int)\n",
    "    return df\n",
    "\n",
    "def get_voice_length(file_path):\n",
    "    length = None\n",
    "    try:\n",
    "        y, sr = librosa.load(file_path)\n",
    "        length =  librosa.get_duration(y=y, sr=sr)\n",
    "    except:\n",
    "        print(f\"Error in file: {file_path}\")\n",
    "    return length"
   ]
  },
  {
   "cell_type": "code",
   "execution_count": 7,
   "metadata": {},
   "outputs": [],
   "source": [
    "combined_df = None\n",
    "\n",
    "for i in range(len(imam_dirs)):\n",
    "    df_imam = get_aayah_df(imam_dirs[i])\n",
    "\n",
    "    df_imam = pd.merge(df, df_imam, on=['surah_number', 'aayah_number'])\n",
    "\n",
    "    if combined_df is None:\n",
    "        combined_df = df_imam\n",
    "        \n",
    "    else:\n",
    "        combined_df = pd.concat([combined_df, df_imam], ignore_index=True)"
   ]
  },
  {
   "cell_type": "code",
   "execution_count": 8,
   "metadata": {},
   "outputs": [
    {
     "data": {
      "text/html": [
       "<div>\n",
       "<style scoped>\n",
       "    .dataframe tbody tr th:only-of-type {\n",
       "        vertical-align: middle;\n",
       "    }\n",
       "\n",
       "    .dataframe tbody tr th {\n",
       "        vertical-align: top;\n",
       "    }\n",
       "\n",
       "    .dataframe thead th {\n",
       "        text-align: right;\n",
       "    }\n",
       "</style>\n",
       "<table border=\"1\" class=\"dataframe\">\n",
       "  <thead>\n",
       "    <tr style=\"text-align: right;\">\n",
       "      <th></th>\n",
       "      <th>surah_number</th>\n",
       "      <th>aayah_number</th>\n",
       "      <th>transcription</th>\n",
       "      <th>file_path</th>\n",
       "    </tr>\n",
       "  </thead>\n",
       "  <tbody>\n",
       "    <tr>\n",
       "      <th>0</th>\n",
       "      <td>1</td>\n",
       "      <td>2</td>\n",
       "      <td>الْحَمْدُ لِلَّهِ رَبِّ الْعَالَمِينَ</td>\n",
       "      <td>F:\\Productivity\\Work\\Furqan\\data\\bismillah\\Abd...</td>\n",
       "    </tr>\n",
       "    <tr>\n",
       "      <th>1</th>\n",
       "      <td>1</td>\n",
       "      <td>3</td>\n",
       "      <td>الرَّحْمَٰنِ الرَّحِيمِ</td>\n",
       "      <td>F:\\Productivity\\Work\\Furqan\\data\\bismillah\\Abd...</td>\n",
       "    </tr>\n",
       "    <tr>\n",
       "      <th>2</th>\n",
       "      <td>1</td>\n",
       "      <td>4</td>\n",
       "      <td>مَالِكِ يَوْمِ الدِّينِ</td>\n",
       "      <td>F:\\Productivity\\Work\\Furqan\\data\\bismillah\\Abd...</td>\n",
       "    </tr>\n",
       "    <tr>\n",
       "      <th>3</th>\n",
       "      <td>1</td>\n",
       "      <td>5</td>\n",
       "      <td>إِيَّاكَ نَعْبُدُ وَإِيَّاكَ نَسْتَعِينُ</td>\n",
       "      <td>F:\\Productivity\\Work\\Furqan\\data\\bismillah\\Abd...</td>\n",
       "    </tr>\n",
       "    <tr>\n",
       "      <th>4</th>\n",
       "      <td>1</td>\n",
       "      <td>6</td>\n",
       "      <td>اهْدِنَا الصِّرَاطَ الْمُسْتَقِيمَ</td>\n",
       "      <td>F:\\Productivity\\Work\\Furqan\\data\\bismillah\\Abd...</td>\n",
       "    </tr>\n",
       "    <tr>\n",
       "      <th>5</th>\n",
       "      <td>1</td>\n",
       "      <td>7</td>\n",
       "      <td>صِرَاطَ الَّذِينَ أَنْعَمْتَ عَلَيْهِمْ غَيْرِ...</td>\n",
       "      <td>F:\\Productivity\\Work\\Furqan\\data\\bismillah\\Abd...</td>\n",
       "    </tr>\n",
       "    <tr>\n",
       "      <th>6</th>\n",
       "      <td>2</td>\n",
       "      <td>2</td>\n",
       "      <td>ذَٰلِكَ الْكِتَابُ لَا رَيْبَ ۛ فِيهِ ۛ هُدًى ...</td>\n",
       "      <td>F:\\Productivity\\Work\\Furqan\\data\\bismillah\\Abd...</td>\n",
       "    </tr>\n",
       "    <tr>\n",
       "      <th>7</th>\n",
       "      <td>2</td>\n",
       "      <td>3</td>\n",
       "      <td>الَّذِينَ يُؤْمِنُونَ بِالْغَيْبِ وَيُقِيمُونَ...</td>\n",
       "      <td>F:\\Productivity\\Work\\Furqan\\data\\bismillah\\Abd...</td>\n",
       "    </tr>\n",
       "    <tr>\n",
       "      <th>8</th>\n",
       "      <td>2</td>\n",
       "      <td>4</td>\n",
       "      <td>وَالَّذِينَ يُؤْمِنُونَ بِمَا أُنْزِلَ إِلَيْك...</td>\n",
       "      <td>F:\\Productivity\\Work\\Furqan\\data\\bismillah\\Abd...</td>\n",
       "    </tr>\n",
       "    <tr>\n",
       "      <th>9</th>\n",
       "      <td>2</td>\n",
       "      <td>5</td>\n",
       "      <td>أُولَٰئِكَ عَلَىٰ هُدًى مِنْ رَبِّهِمْ ۖ وَأُو...</td>\n",
       "      <td>F:\\Productivity\\Work\\Furqan\\data\\bismillah\\Abd...</td>\n",
       "    </tr>\n",
       "  </tbody>\n",
       "</table>\n",
       "</div>"
      ],
      "text/plain": [
       "   surah_number  aayah_number  \\\n",
       "0             1             2   \n",
       "1             1             3   \n",
       "2             1             4   \n",
       "3             1             5   \n",
       "4             1             6   \n",
       "5             1             7   \n",
       "6             2             2   \n",
       "7             2             3   \n",
       "8             2             4   \n",
       "9             2             5   \n",
       "\n",
       "                                       transcription  \\\n",
       "0              الْحَمْدُ لِلَّهِ رَبِّ الْعَالَمِينَ   \n",
       "1                            الرَّحْمَٰنِ الرَّحِيمِ   \n",
       "2                            مَالِكِ يَوْمِ الدِّينِ   \n",
       "3           إِيَّاكَ نَعْبُدُ وَإِيَّاكَ نَسْتَعِينُ   \n",
       "4                 اهْدِنَا الصِّرَاطَ الْمُسْتَقِيمَ   \n",
       "5  صِرَاطَ الَّذِينَ أَنْعَمْتَ عَلَيْهِمْ غَيْرِ...   \n",
       "6  ذَٰلِكَ الْكِتَابُ لَا رَيْبَ ۛ فِيهِ ۛ هُدًى ...   \n",
       "7  الَّذِينَ يُؤْمِنُونَ بِالْغَيْبِ وَيُقِيمُونَ...   \n",
       "8  وَالَّذِينَ يُؤْمِنُونَ بِمَا أُنْزِلَ إِلَيْك...   \n",
       "9  أُولَٰئِكَ عَلَىٰ هُدًى مِنْ رَبِّهِمْ ۖ وَأُو...   \n",
       "\n",
       "                                           file_path  \n",
       "0  F:\\Productivity\\Work\\Furqan\\data\\bismillah\\Abd...  \n",
       "1  F:\\Productivity\\Work\\Furqan\\data\\bismillah\\Abd...  \n",
       "2  F:\\Productivity\\Work\\Furqan\\data\\bismillah\\Abd...  \n",
       "3  F:\\Productivity\\Work\\Furqan\\data\\bismillah\\Abd...  \n",
       "4  F:\\Productivity\\Work\\Furqan\\data\\bismillah\\Abd...  \n",
       "5  F:\\Productivity\\Work\\Furqan\\data\\bismillah\\Abd...  \n",
       "6  F:\\Productivity\\Work\\Furqan\\data\\bismillah\\Abd...  \n",
       "7  F:\\Productivity\\Work\\Furqan\\data\\bismillah\\Abd...  \n",
       "8  F:\\Productivity\\Work\\Furqan\\data\\bismillah\\Abd...  \n",
       "9  F:\\Productivity\\Work\\Furqan\\data\\bismillah\\Abd...  "
      ]
     },
     "execution_count": 8,
     "metadata": {},
     "output_type": "execute_result"
    }
   ],
   "source": [
    "combined_df.head(10)"
   ]
  },
  {
   "cell_type": "code",
   "execution_count": 9,
   "metadata": {},
   "outputs": [
    {
     "data": {
      "text/plain": [
       "(147804, 4)"
      ]
     },
     "execution_count": 9,
     "metadata": {},
     "output_type": "execute_result"
    }
   ],
   "source": [
    "combined_df.shape"
   ]
  },
  {
   "cell_type": "code",
   "execution_count": 10,
   "metadata": {},
   "outputs": [],
   "source": [
    "final_df = None"
   ]
  },
  {
   "cell_type": "code",
   "execution_count": 11,
   "metadata": {},
   "outputs": [],
   "source": [
    "combined_df['voice_length'] = None"
   ]
  },
  {
   "cell_type": "code",
   "execution_count": 12,
   "metadata": {},
   "outputs": [
    {
     "data": {
      "text/html": [
       "<div>\n",
       "<style scoped>\n",
       "    .dataframe tbody tr th:only-of-type {\n",
       "        vertical-align: middle;\n",
       "    }\n",
       "\n",
       "    .dataframe tbody tr th {\n",
       "        vertical-align: top;\n",
       "    }\n",
       "\n",
       "    .dataframe thead th {\n",
       "        text-align: right;\n",
       "    }\n",
       "</style>\n",
       "<table border=\"1\" class=\"dataframe\">\n",
       "  <thead>\n",
       "    <tr style=\"text-align: right;\">\n",
       "      <th></th>\n",
       "      <th>surah_number</th>\n",
       "      <th>aayah_number</th>\n",
       "      <th>transcription</th>\n",
       "      <th>file_path</th>\n",
       "      <th>voice_length</th>\n",
       "    </tr>\n",
       "  </thead>\n",
       "  <tbody>\n",
       "    <tr>\n",
       "      <th>0</th>\n",
       "      <td>1</td>\n",
       "      <td>2</td>\n",
       "      <td>الْحَمْدُ لِلَّهِ رَبِّ الْعَالَمِينَ</td>\n",
       "      <td>F:\\Productivity\\Work\\Furqan\\data\\bismillah\\Abd...</td>\n",
       "      <td>None</td>\n",
       "    </tr>\n",
       "    <tr>\n",
       "      <th>1</th>\n",
       "      <td>1</td>\n",
       "      <td>3</td>\n",
       "      <td>الرَّحْمَٰنِ الرَّحِيمِ</td>\n",
       "      <td>F:\\Productivity\\Work\\Furqan\\data\\bismillah\\Abd...</td>\n",
       "      <td>None</td>\n",
       "    </tr>\n",
       "    <tr>\n",
       "      <th>2</th>\n",
       "      <td>1</td>\n",
       "      <td>4</td>\n",
       "      <td>مَالِكِ يَوْمِ الدِّينِ</td>\n",
       "      <td>F:\\Productivity\\Work\\Furqan\\data\\bismillah\\Abd...</td>\n",
       "      <td>None</td>\n",
       "    </tr>\n",
       "    <tr>\n",
       "      <th>3</th>\n",
       "      <td>1</td>\n",
       "      <td>5</td>\n",
       "      <td>إِيَّاكَ نَعْبُدُ وَإِيَّاكَ نَسْتَعِينُ</td>\n",
       "      <td>F:\\Productivity\\Work\\Furqan\\data\\bismillah\\Abd...</td>\n",
       "      <td>None</td>\n",
       "    </tr>\n",
       "    <tr>\n",
       "      <th>4</th>\n",
       "      <td>1</td>\n",
       "      <td>6</td>\n",
       "      <td>اهْدِنَا الصِّرَاطَ الْمُسْتَقِيمَ</td>\n",
       "      <td>F:\\Productivity\\Work\\Furqan\\data\\bismillah\\Abd...</td>\n",
       "      <td>None</td>\n",
       "    </tr>\n",
       "    <tr>\n",
       "      <th>...</th>\n",
       "      <td>...</td>\n",
       "      <td>...</td>\n",
       "      <td>...</td>\n",
       "      <td>...</td>\n",
       "      <td>...</td>\n",
       "    </tr>\n",
       "    <tr>\n",
       "      <th>147799</th>\n",
       "      <td>21</td>\n",
       "      <td>41</td>\n",
       "      <td>وَلَقَدِ اسْتُهْزِئَ بِرُسُلٍ مِنْ قَبْلِكَ فَ...</td>\n",
       "      <td>F:\\Productivity\\Work\\Furqan\\data\\bismillah\\Yas...</td>\n",
       "      <td>None</td>\n",
       "    </tr>\n",
       "    <tr>\n",
       "      <th>147800</th>\n",
       "      <td>21</td>\n",
       "      <td>42</td>\n",
       "      <td>قُلْ مَنْ يَكْلَؤُكُمْ بِاللَّيْلِ وَالنَّهَار...</td>\n",
       "      <td>F:\\Productivity\\Work\\Furqan\\data\\bismillah\\Yas...</td>\n",
       "      <td>None</td>\n",
       "    </tr>\n",
       "    <tr>\n",
       "      <th>147801</th>\n",
       "      <td>21</td>\n",
       "      <td>43</td>\n",
       "      <td>أَمْ لَهُمْ آلِهَةٌ تَمْنَعُهُمْ مِنْ دُونِنَا...</td>\n",
       "      <td>F:\\Productivity\\Work\\Furqan\\data\\bismillah\\Yas...</td>\n",
       "      <td>None</td>\n",
       "    </tr>\n",
       "    <tr>\n",
       "      <th>147802</th>\n",
       "      <td>21</td>\n",
       "      <td>44</td>\n",
       "      <td>بَلْ مَتَّعْنَا هَٰؤُلَاءِ وَآبَاءَهُمْ حَتَّى...</td>\n",
       "      <td>F:\\Productivity\\Work\\Furqan\\data\\bismillah\\Yas...</td>\n",
       "      <td>None</td>\n",
       "    </tr>\n",
       "    <tr>\n",
       "      <th>147803</th>\n",
       "      <td>21</td>\n",
       "      <td>45</td>\n",
       "      <td>قُلْ إِنَّمَا أُنْذِرُكُمْ بِالْوَحْيِ ۚ وَلَا...</td>\n",
       "      <td>F:\\Productivity\\Work\\Furqan\\data\\bismillah\\Yas...</td>\n",
       "      <td>None</td>\n",
       "    </tr>\n",
       "  </tbody>\n",
       "</table>\n",
       "<p>147804 rows × 5 columns</p>\n",
       "</div>"
      ],
      "text/plain": [
       "        surah_number  aayah_number  \\\n",
       "0                  1             2   \n",
       "1                  1             3   \n",
       "2                  1             4   \n",
       "3                  1             5   \n",
       "4                  1             6   \n",
       "...              ...           ...   \n",
       "147799            21            41   \n",
       "147800            21            42   \n",
       "147801            21            43   \n",
       "147802            21            44   \n",
       "147803            21            45   \n",
       "\n",
       "                                            transcription  \\\n",
       "0                   الْحَمْدُ لِلَّهِ رَبِّ الْعَالَمِينَ   \n",
       "1                                 الرَّحْمَٰنِ الرَّحِيمِ   \n",
       "2                                 مَالِكِ يَوْمِ الدِّينِ   \n",
       "3                إِيَّاكَ نَعْبُدُ وَإِيَّاكَ نَسْتَعِينُ   \n",
       "4                      اهْدِنَا الصِّرَاطَ الْمُسْتَقِيمَ   \n",
       "...                                                   ...   \n",
       "147799  وَلَقَدِ اسْتُهْزِئَ بِرُسُلٍ مِنْ قَبْلِكَ فَ...   \n",
       "147800  قُلْ مَنْ يَكْلَؤُكُمْ بِاللَّيْلِ وَالنَّهَار...   \n",
       "147801  أَمْ لَهُمْ آلِهَةٌ تَمْنَعُهُمْ مِنْ دُونِنَا...   \n",
       "147802  بَلْ مَتَّعْنَا هَٰؤُلَاءِ وَآبَاءَهُمْ حَتَّى...   \n",
       "147803  قُلْ إِنَّمَا أُنْذِرُكُمْ بِالْوَحْيِ ۚ وَلَا...   \n",
       "\n",
       "                                                file_path voice_length  \n",
       "0       F:\\Productivity\\Work\\Furqan\\data\\bismillah\\Abd...         None  \n",
       "1       F:\\Productivity\\Work\\Furqan\\data\\bismillah\\Abd...         None  \n",
       "2       F:\\Productivity\\Work\\Furqan\\data\\bismillah\\Abd...         None  \n",
       "3       F:\\Productivity\\Work\\Furqan\\data\\bismillah\\Abd...         None  \n",
       "4       F:\\Productivity\\Work\\Furqan\\data\\bismillah\\Abd...         None  \n",
       "...                                                   ...          ...  \n",
       "147799  F:\\Productivity\\Work\\Furqan\\data\\bismillah\\Yas...         None  \n",
       "147800  F:\\Productivity\\Work\\Furqan\\data\\bismillah\\Yas...         None  \n",
       "147801  F:\\Productivity\\Work\\Furqan\\data\\bismillah\\Yas...         None  \n",
       "147802  F:\\Productivity\\Work\\Furqan\\data\\bismillah\\Yas...         None  \n",
       "147803  F:\\Productivity\\Work\\Furqan\\data\\bismillah\\Yas...         None  \n",
       "\n",
       "[147804 rows x 5 columns]"
      ]
     },
     "execution_count": 12,
     "metadata": {},
     "output_type": "execute_result"
    }
   ],
   "source": [
    "combined_df"
   ]
  },
  {
   "cell_type": "code",
   "execution_count": null,
   "metadata": {},
   "outputs": [],
   "source": [
    "# for i in range(len(combined_df)):\n",
    "#     print(f\"processing {i}/{len(combined_df)}\")\n",
    "#     file_path = combined_df.iloc[i]['file_path']\n",
    "#     try:\n",
    "#         voice_length = get_voice_length(file_path)\n",
    "#         combined_df.at[i, 'voice_length'] = voice_length\n",
    "#     except Exception as e:\n",
    "#         print(f\"Error in file: {file_path}\")\n",
    "#         continue"
   ]
  },
  {
   "cell_type": "code",
   "execution_count": 13,
   "metadata": {},
   "outputs": [
    {
     "name": "stderr",
     "output_type": "stream",
     "text": [
      "Pandas Apply:   3%|▎         | 4536/147804 [47:21<15:21:18,  2.59it/s] f:\\Productivity\\Github-Repos\\whisper_transcription\\.venv\\lib\\site-packages\\librosa\\util\\decorators.py:88: UserWarning: PySoundFile failed. Trying audioread instead.\n",
      "  return f(*args, **kwargs)\n"
     ]
    },
    {
     "name": "stdout",
     "output_type": "stream",
     "text": [
      "Error in file: F:\\Productivity\\Work\\Furqan\\data\\bismillah\\Abdullah_Basfar_192kbps\\7_110.mp3\n"
     ]
    },
    {
     "name": "stderr",
     "output_type": "stream",
     "text": [
      "Pandas Apply:   4%|▎         | 5405/147804 [1:00:16<34:06:18,  1.16it/s]"
     ]
    },
    {
     "name": "stdout",
     "output_type": "stream",
     "text": [
      "Error in file: F:\\Productivity\\Work\\Furqan\\data\\bismillah\\Abdullah_Basfar_192kbps\\16_41.mp3\n"
     ]
    },
    {
     "name": "stderr",
     "output_type": "stream",
     "text": [
      "Pandas Apply:   4%|▍         | 6517/147804 [1:12:40<7:49:28,  5.02it/s]  "
     ]
    },
    {
     "name": "stdout",
     "output_type": "stream",
     "text": [
      "Error in file: F:\\Productivity\\Work\\Furqan\\data\\bismillah\\Abdullah_Basfar_192kbps\\26_130.mp3\n"
     ]
    },
    {
     "name": "stderr",
     "output_type": "stream",
     "text": [
      "Pandas Apply:   5%|▍         | 6874/147804 [1:16:45<25:55:30,  1.51it/s]"
     ]
    },
    {
     "name": "stdout",
     "output_type": "stream",
     "text": [
      "Error in file: F:\\Productivity\\Work\\Furqan\\data\\bismillah\\Abdullah_Basfar_192kbps\\30_16.mp3\n"
     ]
    },
    {
     "name": "stderr",
     "output_type": "stream",
     "text": [
      "Pandas Apply:   6%|▌         | 8723/147804 [1:36:20<10:55:18,  3.54it/s]"
     ]
    },
    {
     "name": "stdout",
     "output_type": "stream",
     "text": [
      "Error in file: F:\\Productivity\\Work\\Furqan\\data\\bismillah\\Abdullah_Basfar_192kbps\\68_41.mp3\n"
     ]
    },
    {
     "name": "stderr",
     "output_type": "stream",
     "text": [
      "Pandas Apply:   6%|▌         | 9117/147804 [1:38:11<9:50:28,  3.91it/s] "
     ]
    },
    {
     "name": "stdout",
     "output_type": "stream",
     "text": [
      "Error in file: F:\\Productivity\\Work\\Furqan\\data\\bismillah\\Abdullah_Basfar_192kbps\\79_3.mp3\n"
     ]
    },
    {
     "name": "stderr",
     "output_type": "stream",
     "text": [
      "Pandas Apply:   6%|▌         | 9173/147804 [1:38:21<4:38:53,  8.28it/s]"
     ]
    },
    {
     "name": "stdout",
     "output_type": "stream",
     "text": [
      "Error in file: F:\\Productivity\\Work\\Furqan\\data\\bismillah\\Abdullah_Basfar_192kbps\\80_14.mp3\n"
     ]
    },
    {
     "name": "stderr",
     "output_type": "stream",
     "text": [
      "Pandas Apply:   6%|▋         | 9522/147804 [1:39:31<12:41:13,  3.03it/s]"
     ]
    },
    {
     "name": "stdout",
     "output_type": "stream",
     "text": [
      "Error in file: F:\\Productivity\\Work\\Furqan\\data\\bismillah\\Abdullah_Basfar_192kbps\\99_2.mp3\n"
     ]
    },
    {
     "name": "stderr",
     "output_type": "stream",
     "text": [
      "Pandas Apply:   6%|▋         | 9557/147804 [1:39:38<9:01:06,  4.26it/s] "
     ]
    },
    {
     "name": "stdout",
     "output_type": "stream",
     "text": [
      "Error in file: F:\\Productivity\\Work\\Furqan\\data\\bismillah\\Abdullah_Basfar_192kbps\\104_3.mp3\n"
     ]
    },
    {
     "name": "stderr",
     "output_type": "stream",
     "text": [
      "Pandas Apply:  14%|█▍        | 20399/147804 [3:31:35<21:29:33,  1.65it/s] "
     ]
    },
    {
     "name": "stdout",
     "output_type": "stream",
     "text": [
      "Error in file: F:\\Productivity\\Work\\Furqan\\data\\bismillah\\AbdulSamad_64kbps_QuranExplorer.Com\\52_2.mp3\n"
     ]
    },
    {
     "name": "stderr",
     "output_type": "stream",
     "text": [
      "Pandas Apply:  16%|█▌        | 23025/147804 [5:04:42<61:33:36,  1.78s/it] "
     ]
    },
    {
     "name": "stdout",
     "output_type": "stream",
     "text": [
      "Error in file: F:\\Productivity\\Work\\Furqan\\data\\bismillah\\Abdul_Basit_Murattal_192kbps\\2_75.mp3\n"
     ]
    },
    {
     "name": "stderr",
     "output_type": "stream",
     "text": [
      "Pandas Apply:  16%|█▌        | 23047/147804 [5:05:24<57:46:04,  1.67s/it] "
     ]
    },
    {
     "name": "stdout",
     "output_type": "stream",
     "text": [
      "Error in file: F:\\Productivity\\Work\\Furqan\\data\\bismillah\\Abdul_Basit_Murattal_192kbps\\2_97.mp3\n"
     ]
    },
    {
     "name": "stderr",
     "output_type": "stream",
     "text": [
      "Pandas Apply:  16%|█▌        | 23482/147804 [5:17:11<57:34:08,  1.67s/it] "
     ]
    },
    {
     "name": "stdout",
     "output_type": "stream",
     "text": [
      "Error in file: F:\\Productivity\\Work\\Furqan\\data\\bismillah\\Abdul_Basit_Murattal_192kbps\\4_47.mp3\n"
     ]
    },
    {
     "name": "stderr",
     "output_type": "stream",
     "text": [
      "Pandas Apply:  16%|█▌        | 23542/147804 [5:18:38<42:44:11,  1.24s/it]"
     ]
    },
    {
     "name": "stdout",
     "output_type": "stream",
     "text": [
      "Error in file: F:\\Productivity\\Work\\Furqan\\data\\bismillah\\Abdul_Basit_Murattal_192kbps\\4_108.mp3\n"
     ]
    },
    {
     "name": "stderr",
     "output_type": "stream",
     "text": [
      "Pandas Apply:  16%|█▌        | 23571/147804 [5:19:08<31:41:10,  1.09it/s]"
     ]
    },
    {
     "name": "stdout",
     "output_type": "stream",
     "text": [
      "Error in file: F:\\Productivity\\Work\\Furqan\\data\\bismillah\\Abdul_Basit_Murattal_192kbps\\4_136.mp3\n"
     ]
    },
    {
     "name": "stderr",
     "output_type": "stream",
     "text": [
      "Pandas Apply:  16%|█▌        | 23625/147804 [5:20:26<47:55:09,  1.39s/it] "
     ]
    },
    {
     "name": "stdout",
     "output_type": "stream",
     "text": [
      "Error in file: F:\\Productivity\\Work\\Furqan\\data\\bismillah\\Abdul_Basit_Murattal_192kbps\\5_15.mp3\n"
     ]
    },
    {
     "name": "stderr",
     "output_type": "stream",
     "text": [
      "Pandas Apply:  16%|█▌        | 23774/147804 [5:23:28<34:30:49,  1.00s/it]"
     ]
    },
    {
     "name": "stdout",
     "output_type": "stream",
     "text": [
      "Error in file: F:\\Productivity\\Work\\Furqan\\data\\bismillah\\Abdul_Basit_Murattal_192kbps\\6_46.mp3\n"
     ]
    },
    {
     "name": "stderr",
     "output_type": "stream",
     "text": [
      "Pandas Apply:  21%|██        | 31339/147804 [6:41:46<17:04:08,  1.90it/s] "
     ]
    },
    {
     "name": "stdout",
     "output_type": "stream",
     "text": [
      "Error in file: F:\\Productivity\\Work\\Furqan\\data\\bismillah\\Abu_Bakr_Ash-Shaatree_128kbps\\7_134.mp3\n"
     ]
    },
    {
     "name": "stderr",
     "output_type": "stream",
     "text": [
      "Pandas Apply:  21%|██▏       | 31739/147804 [6:45:35<31:09:46,  1.03it/s]"
     ]
    },
    {
     "name": "stdout",
     "output_type": "stream",
     "text": [
      "Error in file: F:\\Productivity\\Work\\Furqan\\data\\bismillah\\Abu_Bakr_Ash-Shaatree_128kbps\\11_19.mp3\n"
     ]
    },
    {
     "name": "stderr",
     "output_type": "stream",
     "text": [
      "Pandas Apply:  22%|██▏       | 33224/147804 [6:58:21<7:43:41,  4.12it/s] "
     ]
    },
    {
     "name": "stdout",
     "output_type": "stream",
     "text": [
      "Error in file: F:\\Productivity\\Work\\Furqan\\data\\bismillah\\Abu_Bakr_Ash-Shaatree_128kbps\\26_60.mp3\n"
     ]
    },
    {
     "name": "stderr",
     "output_type": "stream",
     "text": [
      "Pandas Apply:  25%|██▌       | 37103/147804 [7:24:07<17:47:57,  1.73it/s]"
     ]
    },
    {
     "name": "stdout",
     "output_type": "stream",
     "text": [
      "Error in file: F:\\Productivity\\Work\\Furqan\\data\\bismillah\\Ahmed_ibn_Ali_al-Ajamy_128kbps_ketaballah.net\\5_64.mp3\n"
     ]
    },
    {
     "name": "stderr",
     "output_type": "stream",
     "text": [
      "Pandas Apply:  25%|██▌       | 37105/147804 [7:24:08<13:18:38,  2.31it/s]"
     ]
    },
    {
     "name": "stdout",
     "output_type": "stream",
     "text": [
      "Error in file: F:\\Productivity\\Work\\Furqan\\data\\bismillah\\Ahmed_ibn_Ali_al-Ajamy_128kbps_ketaballah.net\\5_66.mp3\n",
      "Error in file: F:\\Productivity\\Work\\Furqan\\data\\bismillah\\Ahmed_ibn_Ali_al-Ajamy_128kbps_ketaballah.net\\5_67.mp3\n"
     ]
    },
    {
     "name": "stderr",
     "output_type": "stream",
     "text": [
      "Pandas Apply:  25%|██▌       | 37108/147804 [7:24:09<11:50:24,  2.60it/s]"
     ]
    },
    {
     "name": "stdout",
     "output_type": "stream",
     "text": [
      "Error in file: F:\\Productivity\\Work\\Furqan\\data\\bismillah\\Ahmed_ibn_Ali_al-Ajamy_128kbps_ketaballah.net\\5_69.mp3\n",
      "Error in file: F:\\Productivity\\Work\\Furqan\\data\\bismillah\\Ahmed_ibn_Ali_al-Ajamy_128kbps_ketaballah.net\\5_70.mp3\n"
     ]
    },
    {
     "name": "stderr",
     "output_type": "stream",
     "text": [
      "Pandas Apply:  26%|██▌       | 38729/147804 [7:38:36<4:14:19,  7.15it/s] "
     ]
    },
    {
     "name": "stdout",
     "output_type": "stream",
     "text": [
      "Error in file: F:\\Productivity\\Work\\Furqan\\data\\bismillah\\Ahmed_ibn_Ali_al-Ajamy_128kbps_ketaballah.net\\20_23.mp3\n",
      "Error in file: F:\\Productivity\\Work\\Furqan\\data\\bismillah\\Ahmed_ibn_Ali_al-Ajamy_128kbps_ketaballah.net\\20_24.mp3\n"
     ]
    },
    {
     "name": "stderr",
     "output_type": "stream",
     "text": [
      "Pandas Apply:  26%|██▌       | 38735/147804 [7:38:37<2:49:15, 10.74it/s]"
     ]
    },
    {
     "name": "stdout",
     "output_type": "stream",
     "text": [
      "Error in file: F:\\Productivity\\Work\\Furqan\\data\\bismillah\\Ahmed_ibn_Ali_al-Ajamy_128kbps_ketaballah.net\\20_29.mp3\n"
     ]
    },
    {
     "name": "stderr",
     "output_type": "stream",
     "text": [
      "Pandas Apply:  26%|██▌       | 38739/147804 [7:38:37<2:33:30, 11.84it/s]"
     ]
    },
    {
     "name": "stdout",
     "output_type": "stream",
     "text": [
      "Error in file: F:\\Productivity\\Work\\Furqan\\data\\bismillah\\Ahmed_ibn_Ali_al-Ajamy_128kbps_ketaballah.net\\20_35.mp3\n"
     ]
    },
    {
     "name": "stderr",
     "output_type": "stream",
     "text": [
      "Pandas Apply:  26%|██▋       | 38839/147804 [7:39:17<15:07:08,  2.00it/s]"
     ]
    },
    {
     "name": "stdout",
     "output_type": "stream",
     "text": [
      "Error in file: F:\\Productivity\\Work\\Furqan\\data\\bismillah\\Ahmed_ibn_Ali_al-Ajamy_128kbps_ketaballah.net\\21_2.mp3\n",
      "Error in file: F:\\Productivity\\Work\\Furqan\\data\\bismillah\\Ahmed_ibn_Ali_al-Ajamy_128kbps_ketaballah.net\\21_3.mp3\n"
     ]
    },
    {
     "name": "stderr",
     "output_type": "stream",
     "text": [
      "Pandas Apply:  26%|██▋       | 38842/147804 [7:39:18<9:04:28,  3.34it/s] "
     ]
    },
    {
     "name": "stdout",
     "output_type": "stream",
     "text": [
      "Error in file: F:\\Productivity\\Work\\Furqan\\data\\bismillah\\Ahmed_ibn_Ali_al-Ajamy_128kbps_ketaballah.net\\21_5.mp3\n",
      "Error in file: F:\\Productivity\\Work\\Furqan\\data\\bismillah\\Ahmed_ibn_Ali_al-Ajamy_128kbps_ketaballah.net\\21_6.mp3\n"
     ]
    },
    {
     "name": "stderr",
     "output_type": "stream",
     "text": [
      "Pandas Apply:  26%|██▋       | 38845/147804 [7:39:18<7:30:07,  4.03it/s]"
     ]
    },
    {
     "name": "stdout",
     "output_type": "stream",
     "text": [
      "Error in file: F:\\Productivity\\Work\\Furqan\\data\\bismillah\\Ahmed_ibn_Ali_al-Ajamy_128kbps_ketaballah.net\\21_8.mp3\n",
      "Error in file: F:\\Productivity\\Work\\Furqan\\data\\bismillah\\Ahmed_ibn_Ali_al-Ajamy_128kbps_ketaballah.net\\21_9.mp3\n",
      "Error in file: F:\\Productivity\\Work\\Furqan\\data\\bismillah\\Ahmed_ibn_Ali_al-Ajamy_128kbps_ketaballah.net\\21_10.mp3\n"
     ]
    },
    {
     "name": "stderr",
     "output_type": "stream",
     "text": [
      "Pandas Apply:  26%|██▋       | 38849/147804 [7:39:19<5:56:43,  5.09it/s]"
     ]
    },
    {
     "name": "stdout",
     "output_type": "stream",
     "text": [
      "Error in file: F:\\Productivity\\Work\\Furqan\\data\\bismillah\\Ahmed_ibn_Ali_al-Ajamy_128kbps_ketaballah.net\\21_12.mp3\n",
      "Error in file: F:\\Productivity\\Work\\Furqan\\data\\bismillah\\Ahmed_ibn_Ali_al-Ajamy_128kbps_ketaballah.net\\21_13.mp3\n"
     ]
    },
    {
     "name": "stderr",
     "output_type": "stream",
     "text": [
      "Pandas Apply:  26%|██▋       | 38852/147804 [7:39:19<5:16:56,  5.73it/s]"
     ]
    },
    {
     "name": "stdout",
     "output_type": "stream",
     "text": [
      "Error in file: F:\\Productivity\\Work\\Furqan\\data\\bismillah\\Ahmed_ibn_Ali_al-Ajamy_128kbps_ketaballah.net\\21_15.mp3\n"
     ]
    },
    {
     "name": "stderr",
     "output_type": "stream",
     "text": [
      "Pandas Apply:  26%|██▋       | 38855/147804 [7:39:20<6:36:00,  4.59it/s]"
     ]
    },
    {
     "name": "stdout",
     "output_type": "stream",
     "text": [
      "Error in file: F:\\Productivity\\Work\\Furqan\\data\\bismillah\\Ahmed_ibn_Ali_al-Ajamy_128kbps_ketaballah.net\\21_18.mp3\n",
      "Error in file: F:\\Productivity\\Work\\Furqan\\data\\bismillah\\Ahmed_ibn_Ali_al-Ajamy_128kbps_ketaballah.net\\21_19.mp3\n",
      "Error in file: F:\\Productivity\\Work\\Furqan\\data\\bismillah\\Ahmed_ibn_Ali_al-Ajamy_128kbps_ketaballah.net\\21_20.mp3\n"
     ]
    },
    {
     "name": "stderr",
     "output_type": "stream",
     "text": [
      "Pandas Apply:  26%|██▋       | 38864/147804 [7:39:23<10:27:28,  2.89it/s]"
     ]
    },
    {
     "name": "stdout",
     "output_type": "stream",
     "text": [
      "Error in file: F:\\Productivity\\Work\\Furqan\\data\\bismillah\\Ahmed_ibn_Ali_al-Ajamy_128kbps_ketaballah.net\\21_27.mp3\n"
     ]
    },
    {
     "name": "stderr",
     "output_type": "stream",
     "text": [
      "Pandas Apply:  26%|██▋       | 38866/147804 [7:39:23<9:23:12,  3.22it/s] "
     ]
    },
    {
     "name": "stdout",
     "output_type": "stream",
     "text": [
      "Error in file: F:\\Productivity\\Work\\Furqan\\data\\bismillah\\Ahmed_ibn_Ali_al-Ajamy_128kbps_ketaballah.net\\21_29.mp3\n"
     ]
    },
    {
     "name": "stderr",
     "output_type": "stream",
     "text": [
      "Pandas Apply:  26%|██▋       | 38870/147804 [7:39:24<10:24:29,  2.91it/s]"
     ]
    },
    {
     "name": "stdout",
     "output_type": "stream",
     "text": [
      "Error in file: F:\\Productivity\\Work\\Furqan\\data\\bismillah\\Ahmed_ibn_Ali_al-Ajamy_128kbps_ketaballah.net\\21_33.mp3\n"
     ]
    },
    {
     "name": "stderr",
     "output_type": "stream",
     "text": [
      "Pandas Apply:  26%|██▋       | 38877/147804 [7:39:27<14:00:46,  2.16it/s]"
     ]
    },
    {
     "name": "stdout",
     "output_type": "stream",
     "text": [
      "Error in file: F:\\Productivity\\Work\\Furqan\\data\\bismillah\\Ahmed_ibn_Ali_al-Ajamy_128kbps_ketaballah.net\\21_40.mp3\n"
     ]
    },
    {
     "name": "stderr",
     "output_type": "stream",
     "text": [
      "Pandas Apply:  26%|██▋       | 38881/147804 [7:39:29<12:36:53,  2.40it/s]"
     ]
    },
    {
     "name": "stdout",
     "output_type": "stream",
     "text": [
      "Error in file: F:\\Productivity\\Work\\Furqan\\data\\bismillah\\Ahmed_ibn_Ali_al-Ajamy_128kbps_ketaballah.net\\21_44.mp3\n"
     ]
    },
    {
     "name": "stderr",
     "output_type": "stream",
     "text": [
      "Pandas Apply:  26%|██▋       | 38884/147804 [7:39:30<12:14:50,  2.47it/s]"
     ]
    },
    {
     "name": "stdout",
     "output_type": "stream",
     "text": [
      "Error in file: F:\\Productivity\\Work\\Furqan\\data\\bismillah\\Ahmed_ibn_Ali_al-Ajamy_128kbps_ketaballah.net\\21_47.mp3\n"
     ]
    },
    {
     "name": "stderr",
     "output_type": "stream",
     "text": [
      "Pandas Apply:  26%|██▋       | 38886/147804 [7:39:30<10:06:37,  2.99it/s]"
     ]
    },
    {
     "name": "stdout",
     "output_type": "stream",
     "text": [
      "Error in file: F:\\Productivity\\Work\\Furqan\\data\\bismillah\\Ahmed_ibn_Ali_al-Ajamy_128kbps_ketaballah.net\\21_49.mp3\n"
     ]
    },
    {
     "name": "stderr",
     "output_type": "stream",
     "text": [
      "Pandas Apply:  26%|██▋       | 38888/147804 [7:39:31<8:16:02,  3.66it/s] "
     ]
    },
    {
     "name": "stdout",
     "output_type": "stream",
     "text": [
      "Error in file: F:\\Productivity\\Work\\Furqan\\data\\bismillah\\Ahmed_ibn_Ali_al-Ajamy_128kbps_ketaballah.net\\21_51.mp3\n"
     ]
    },
    {
     "name": "stderr",
     "output_type": "stream",
     "text": [
      "Pandas Apply:  26%|██▋       | 38891/147804 [7:39:32<8:32:11,  3.54it/s]"
     ]
    },
    {
     "name": "stdout",
     "output_type": "stream",
     "text": [
      "Error in file: F:\\Productivity\\Work\\Furqan\\data\\bismillah\\Ahmed_ibn_Ali_al-Ajamy_128kbps_ketaballah.net\\21_54.mp3\n"
     ]
    },
    {
     "name": "stderr",
     "output_type": "stream",
     "text": [
      "Pandas Apply:  26%|██▋       | 38893/147804 [7:39:32<6:59:15,  4.33it/s]"
     ]
    },
    {
     "name": "stdout",
     "output_type": "stream",
     "text": [
      "Error in file: F:\\Productivity\\Work\\Furqan\\data\\bismillah\\Ahmed_ibn_Ali_al-Ajamy_128kbps_ketaballah.net\\21_56.mp3\n"
     ]
    },
    {
     "name": "stderr",
     "output_type": "stream",
     "text": [
      "Pandas Apply:  26%|██▋       | 38896/147804 [7:39:33<7:05:33,  4.27it/s]"
     ]
    },
    {
     "name": "stdout",
     "output_type": "stream",
     "text": [
      "Error in file: F:\\Productivity\\Work\\Furqan\\data\\bismillah\\Ahmed_ibn_Ali_al-Ajamy_128kbps_ketaballah.net\\21_59.mp3\n",
      "Error in file: F:\\Productivity\\Work\\Furqan\\data\\bismillah\\Ahmed_ibn_Ali_al-Ajamy_128kbps_ketaballah.net\\21_60.mp3\n"
     ]
    },
    {
     "name": "stderr",
     "output_type": "stream",
     "text": [
      "Pandas Apply:  26%|██▋       | 38899/147804 [7:39:33<5:28:51,  5.52it/s]"
     ]
    },
    {
     "name": "stdout",
     "output_type": "stream",
     "text": [
      "Error in file: F:\\Productivity\\Work\\Furqan\\data\\bismillah\\Ahmed_ibn_Ali_al-Ajamy_128kbps_ketaballah.net\\21_62.mp3\n"
     ]
    },
    {
     "name": "stderr",
     "output_type": "stream",
     "text": [
      "Pandas Apply:  26%|██▋       | 38902/147804 [7:39:34<6:39:59,  4.54it/s]"
     ]
    },
    {
     "name": "stdout",
     "output_type": "stream",
     "text": [
      "Error in file: F:\\Productivity\\Work\\Furqan\\data\\bismillah\\Ahmed_ibn_Ali_al-Ajamy_128kbps_ketaballah.net\\21_65.mp3\n"
     ]
    },
    {
     "name": "stderr",
     "output_type": "stream",
     "text": [
      "Pandas Apply:  26%|██▋       | 38906/147804 [7:39:35<8:09:10,  3.71it/s]"
     ]
    },
    {
     "name": "stdout",
     "output_type": "stream",
     "text": [
      "Error in file: F:\\Productivity\\Work\\Furqan\\data\\bismillah\\Ahmed_ibn_Ali_al-Ajamy_128kbps_ketaballah.net\\21_69.mp3\n"
     ]
    },
    {
     "name": "stderr",
     "output_type": "stream",
     "text": [
      "Pandas Apply:  26%|██▋       | 38909/147804 [7:39:36<8:04:11,  3.75it/s]"
     ]
    },
    {
     "name": "stdout",
     "output_type": "stream",
     "text": [
      "Error in file: F:\\Productivity\\Work\\Furqan\\data\\bismillah\\Ahmed_ibn_Ali_al-Ajamy_128kbps_ketaballah.net\\21_72.mp3\n"
     ]
    },
    {
     "name": "stderr",
     "output_type": "stream",
     "text": [
      "Pandas Apply:  26%|██▋       | 38911/147804 [7:39:36<8:41:59,  3.48it/s]"
     ]
    },
    {
     "name": "stdout",
     "output_type": "stream",
     "text": [
      "Error in file: F:\\Productivity\\Work\\Furqan\\data\\bismillah\\Ahmed_ibn_Ali_al-Ajamy_128kbps_ketaballah.net\\21_74.mp3\n",
      "Error in file: F:\\Productivity\\Work\\Furqan\\data\\bismillah\\Ahmed_ibn_Ali_al-Ajamy_128kbps_ketaballah.net\\21_75.mp3\n"
     ]
    },
    {
     "name": "stderr",
     "output_type": "stream",
     "text": [
      "Pandas Apply:  26%|██▋       | 38928/147804 [7:39:40<3:42:44,  8.15it/s] "
     ]
    },
    {
     "name": "stdout",
     "output_type": "stream",
     "text": [
      "Error in file: F:\\Productivity\\Work\\Furqan\\data\\bismillah\\Ahmed_ibn_Ali_al-Ajamy_128kbps_ketaballah.net\\21_84.mp3\n",
      "Error in file: F:\\Productivity\\Work\\Furqan\\data\\bismillah\\Ahmed_ibn_Ali_al-Ajamy_128kbps_ketaballah.net\\21_85.mp3\n",
      "Error in file: F:\\Productivity\\Work\\Furqan\\data\\bismillah\\Ahmed_ibn_Ali_al-Ajamy_128kbps_ketaballah.net\\21_86.mp3\n",
      "Error in file: F:\\Productivity\\Work\\Furqan\\data\\bismillah\\Ahmed_ibn_Ali_al-Ajamy_128kbps_ketaballah.net\\21_87.mp3\n",
      "Error in file: F:\\Productivity\\Work\\Furqan\\data\\bismillah\\Ahmed_ibn_Ali_al-Ajamy_128kbps_ketaballah.net\\21_88.mp3\n",
      "Error in file: F:\\Productivity\\Work\\Furqan\\data\\bismillah\\Ahmed_ibn_Ali_al-Ajamy_128kbps_ketaballah.net\\21_89.mp3\n",
      "Error in file: F:\\Productivity\\Work\\Furqan\\data\\bismillah\\Ahmed_ibn_Ali_al-Ajamy_128kbps_ketaballah.net\\21_90.mp3\n",
      "Error in file: F:\\Productivity\\Work\\Furqan\\data\\bismillah\\Ahmed_ibn_Ali_al-Ajamy_128kbps_ketaballah.net\\21_91.mp3\n"
     ]
    },
    {
     "name": "stderr",
     "output_type": "stream",
     "text": [
      "Pandas Apply:  26%|██▋       | 38930/147804 [7:39:41<4:37:21,  6.54it/s]"
     ]
    },
    {
     "name": "stdout",
     "output_type": "stream",
     "text": [
      "Error in file: F:\\Productivity\\Work\\Furqan\\data\\bismillah\\Ahmed_ibn_Ali_al-Ajamy_128kbps_ketaballah.net\\21_93.mp3\n"
     ]
    },
    {
     "name": "stderr",
     "output_type": "stream",
     "text": [
      "Pandas Apply:  26%|██▋       | 38934/147804 [7:39:42<7:19:56,  4.12it/s]"
     ]
    },
    {
     "name": "stdout",
     "output_type": "stream",
     "text": [
      "Error in file: F:\\Productivity\\Work\\Furqan\\data\\bismillah\\Ahmed_ibn_Ali_al-Ajamy_128kbps_ketaballah.net\\21_97.mp3\n"
     ]
    },
    {
     "name": "stderr",
     "output_type": "stream",
     "text": [
      "Pandas Apply:  26%|██▋       | 38938/147804 [7:39:43<8:23:49,  3.60it/s]"
     ]
    },
    {
     "name": "stdout",
     "output_type": "stream",
     "text": [
      "Error in file: F:\\Productivity\\Work\\Furqan\\data\\bismillah\\Ahmed_ibn_Ali_al-Ajamy_128kbps_ketaballah.net\\21_101.mp3\n",
      "Error in file: F:\\Productivity\\Work\\Furqan\\data\\bismillah\\Ahmed_ibn_Ali_al-Ajamy_128kbps_ketaballah.net\\21_102.mp3\n"
     ]
    },
    {
     "name": "stderr",
     "output_type": "stream",
     "text": [
      "Pandas Apply:  26%|██▋       | 38941/147804 [7:39:44<7:52:55,  3.84it/s]"
     ]
    },
    {
     "name": "stdout",
     "output_type": "stream",
     "text": [
      "Error in file: F:\\Productivity\\Work\\Furqan\\data\\bismillah\\Ahmed_ibn_Ali_al-Ajamy_128kbps_ketaballah.net\\21_104.mp3\n"
     ]
    },
    {
     "name": "stderr",
     "output_type": "stream",
     "text": [
      "Pandas Apply:  26%|██▋       | 38943/147804 [7:39:45<7:48:18,  3.87it/s]"
     ]
    },
    {
     "name": "stdout",
     "output_type": "stream",
     "text": [
      "Error in file: F:\\Productivity\\Work\\Furqan\\data\\bismillah\\Ahmed_ibn_Ali_al-Ajamy_128kbps_ketaballah.net\\21_106.mp3\n",
      "Error in file: F:\\Productivity\\Work\\Furqan\\data\\bismillah\\Ahmed_ibn_Ali_al-Ajamy_128kbps_ketaballah.net\\21_107.mp3\n"
     ]
    },
    {
     "name": "stderr",
     "output_type": "stream",
     "text": [
      "Pandas Apply:  26%|██▋       | 38946/147804 [7:39:45<6:42:59,  4.50it/s]"
     ]
    },
    {
     "name": "stdout",
     "output_type": "stream",
     "text": [
      "Error in file: F:\\Productivity\\Work\\Furqan\\data\\bismillah\\Ahmed_ibn_Ali_al-Ajamy_128kbps_ketaballah.net\\21_109.mp3\n",
      "Error in file: F:\\Productivity\\Work\\Furqan\\data\\bismillah\\Ahmed_ibn_Ali_al-Ajamy_128kbps_ketaballah.net\\21_110.mp3\n",
      "Error in file: F:\\Productivity\\Work\\Furqan\\data\\bismillah\\Ahmed_ibn_Ali_al-Ajamy_128kbps_ketaballah.net\\21_111.mp3\n"
     ]
    },
    {
     "name": "stderr",
     "output_type": "stream",
     "text": [
      "Pandas Apply:  26%|██▋       | 38950/147804 [7:39:46<5:28:45,  5.52it/s]"
     ]
    },
    {
     "name": "stdout",
     "output_type": "stream",
     "text": [
      "Error in file: F:\\Productivity\\Work\\Furqan\\data\\bismillah\\Ahmed_ibn_Ali_al-Ajamy_128kbps_ketaballah.net\\22_2.mp3\n"
     ]
    },
    {
     "name": "stderr",
     "output_type": "stream",
     "text": [
      "Pandas Apply:  26%|██▋       | 38953/147804 [7:39:47<7:08:51,  4.23it/s]"
     ]
    },
    {
     "name": "stdout",
     "output_type": "stream",
     "text": [
      "Error in file: F:\\Productivity\\Work\\Furqan\\data\\bismillah\\Ahmed_ibn_Ali_al-Ajamy_128kbps_ketaballah.net\\22_5.mp3\n"
     ]
    },
    {
     "name": "stderr",
     "output_type": "stream",
     "text": [
      "Pandas Apply:  26%|██▋       | 38955/147804 [7:39:47<7:31:05,  4.02it/s]"
     ]
    },
    {
     "name": "stdout",
     "output_type": "stream",
     "text": [
      "Error in file: F:\\Productivity\\Work\\Furqan\\data\\bismillah\\Ahmed_ibn_Ali_al-Ajamy_128kbps_ketaballah.net\\22_7.mp3\n",
      "Error in file: F:\\Productivity\\Work\\Furqan\\data\\bismillah\\Ahmed_ibn_Ali_al-Ajamy_128kbps_ketaballah.net\\22_8.mp3\n"
     ]
    },
    {
     "name": "stderr",
     "output_type": "stream",
     "text": [
      "Pandas Apply:  26%|██▋       | 38961/147804 [7:39:49<11:01:47,  2.74it/s]"
     ]
    },
    {
     "name": "stdout",
     "output_type": "stream",
     "text": [
      "Error in file: F:\\Productivity\\Work\\Furqan\\data\\bismillah\\Ahmed_ibn_Ali_al-Ajamy_128kbps_ketaballah.net\\22_13.mp3\n"
     ]
    },
    {
     "name": "stderr",
     "output_type": "stream",
     "text": [
      "Pandas Apply:  26%|██▋       | 38964/147804 [7:39:51<14:35:58,  2.07it/s]"
     ]
    },
    {
     "name": "stdout",
     "output_type": "stream",
     "text": [
      "Error in file: F:\\Productivity\\Work\\Furqan\\data\\bismillah\\Ahmed_ibn_Ali_al-Ajamy_128kbps_ketaballah.net\\22_16.mp3\n"
     ]
    },
    {
     "name": "stderr",
     "output_type": "stream",
     "text": [
      "Pandas Apply:  26%|██▋       | 38967/147804 [7:39:53<18:54:37,  1.60it/s]"
     ]
    },
    {
     "name": "stdout",
     "output_type": "stream",
     "text": [
      "Error in file: F:\\Productivity\\Work\\Furqan\\data\\bismillah\\Ahmed_ibn_Ali_al-Ajamy_128kbps_ketaballah.net\\22_19.mp3\n"
     ]
    },
    {
     "name": "stderr",
     "output_type": "stream",
     "text": [
      "Pandas Apply:  26%|██▋       | 38969/147804 [7:39:53<13:29:24,  2.24it/s]"
     ]
    },
    {
     "name": "stdout",
     "output_type": "stream",
     "text": [
      "Error in file: F:\\Productivity\\Work\\Furqan\\data\\bismillah\\Ahmed_ibn_Ali_al-Ajamy_128kbps_ketaballah.net\\22_21.mp3\n"
     ]
    },
    {
     "name": "stderr",
     "output_type": "stream",
     "text": [
      "Pandas Apply:  26%|██▋       | 38974/147804 [7:39:56<16:33:56,  1.82it/s]"
     ]
    },
    {
     "name": "stdout",
     "output_type": "stream",
     "text": [
      "Error in file: F:\\Productivity\\Work\\Furqan\\data\\bismillah\\Ahmed_ibn_Ali_al-Ajamy_128kbps_ketaballah.net\\22_26.mp3\n"
     ]
    },
    {
     "name": "stderr",
     "output_type": "stream",
     "text": [
      "Pandas Apply:  26%|██▋       | 38977/147804 [7:39:57<14:33:11,  2.08it/s]"
     ]
    },
    {
     "name": "stdout",
     "output_type": "stream",
     "text": [
      "Error in file: F:\\Productivity\\Work\\Furqan\\data\\bismillah\\Ahmed_ibn_Ali_al-Ajamy_128kbps_ketaballah.net\\22_29.mp3\n"
     ]
    },
    {
     "name": "stderr",
     "output_type": "stream",
     "text": [
      "Pandas Apply:  26%|██▋       | 38979/147804 [7:39:58<13:08:22,  2.30it/s]"
     ]
    },
    {
     "name": "stdout",
     "output_type": "stream",
     "text": [
      "Error in file: F:\\Productivity\\Work\\Furqan\\data\\bismillah\\Ahmed_ibn_Ali_al-Ajamy_128kbps_ketaballah.net\\22_31.mp3\n",
      "Error in file: F:\\Productivity\\Work\\Furqan\\data\\bismillah\\Ahmed_ibn_Ali_al-Ajamy_128kbps_ketaballah.net\\22_32.mp3\n",
      "Error in file: F:\\Productivity\\Work\\Furqan\\data\\bismillah\\Ahmed_ibn_Ali_al-Ajamy_128kbps_ketaballah.net\\22_33.mp3\n",
      "Error in file: F:\\Productivity\\Work\\Furqan\\data\\bismillah\\Ahmed_ibn_Ali_al-Ajamy_128kbps_ketaballah.net\\22_34.mp3\n",
      "Error in file: F:\\Productivity\\Work\\Furqan\\data\\bismillah\\Ahmed_ibn_Ali_al-Ajamy_128kbps_ketaballah.net\\22_35.mp3\n",
      "Error in file: F:\\Productivity\\Work\\Furqan\\data\\bismillah\\Ahmed_ibn_Ali_al-Ajamy_128kbps_ketaballah.net\\22_36.mp3\n"
     ]
    },
    {
     "name": "stderr",
     "output_type": "stream",
     "text": [
      "Pandas Apply:  26%|██▋       | 38987/147804 [7:39:59<7:31:10,  4.02it/s] "
     ]
    },
    {
     "name": "stdout",
     "output_type": "stream",
     "text": [
      "Error in file: F:\\Productivity\\Work\\Furqan\\data\\bismillah\\Ahmed_ibn_Ali_al-Ajamy_128kbps_ketaballah.net\\22_39.mp3\n"
     ]
    },
    {
     "name": "stderr",
     "output_type": "stream",
     "text": [
      "Pandas Apply:  26%|██▋       | 38991/147804 [7:40:01<12:01:42,  2.51it/s]"
     ]
    },
    {
     "name": "stdout",
     "output_type": "stream",
     "text": [
      "Error in file: F:\\Productivity\\Work\\Furqan\\data\\bismillah\\Ahmed_ibn_Ali_al-Ajamy_128kbps_ketaballah.net\\22_43.mp3\n"
     ]
    },
    {
     "name": "stderr",
     "output_type": "stream",
     "text": [
      "Pandas Apply:  26%|██▋       | 38994/147804 [7:40:03<12:27:35,  2.43it/s]"
     ]
    },
    {
     "name": "stdout",
     "output_type": "stream",
     "text": [
      "Error in file: F:\\Productivity\\Work\\Furqan\\data\\bismillah\\Ahmed_ibn_Ali_al-Ajamy_128kbps_ketaballah.net\\22_46.mp3\n",
      "Error in file: F:\\Productivity\\Work\\Furqan\\data\\bismillah\\Ahmed_ibn_Ali_al-Ajamy_128kbps_ketaballah.net\\22_47.mp3\n",
      "Error in file: F:\\Productivity\\Work\\Furqan\\data\\bismillah\\Ahmed_ibn_Ali_al-Ajamy_128kbps_ketaballah.net\\22_48.mp3\n"
     ]
    },
    {
     "name": "stderr",
     "output_type": "stream",
     "text": [
      "Pandas Apply:  26%|██▋       | 38998/147804 [7:40:03<7:24:58,  4.08it/s] "
     ]
    },
    {
     "name": "stdout",
     "output_type": "stream",
     "text": [
      "Error in file: F:\\Productivity\\Work\\Furqan\\data\\bismillah\\Ahmed_ibn_Ali_al-Ajamy_128kbps_ketaballah.net\\22_50.mp3\n",
      "Error in file: F:\\Productivity\\Work\\Furqan\\data\\bismillah\\Ahmed_ibn_Ali_al-Ajamy_128kbps_ketaballah.net\\22_51.mp3\n",
      "Error in file: F:\\Productivity\\Work\\Furqan\\data\\bismillah\\Ahmed_ibn_Ali_al-Ajamy_128kbps_ketaballah.net\\22_52.mp3\n",
      "Error in file: F:\\Productivity\\Work\\Furqan\\data\\bismillah\\Ahmed_ibn_Ali_al-Ajamy_128kbps_ketaballah.net\\22_53.mp3\n"
     ]
    },
    {
     "name": "stderr",
     "output_type": "stream",
     "text": [
      "Pandas Apply:  26%|██▋       | 39003/147804 [7:40:04<6:02:56,  5.00it/s]"
     ]
    },
    {
     "name": "stdout",
     "output_type": "stream",
     "text": [
      "Error in file: F:\\Productivity\\Work\\Furqan\\data\\bismillah\\Ahmed_ibn_Ali_al-Ajamy_128kbps_ketaballah.net\\22_55.mp3\n"
     ]
    },
    {
     "name": "stderr",
     "output_type": "stream",
     "text": [
      "Pandas Apply:  26%|██▋       | 39005/147804 [7:40:04<6:23:07,  4.73it/s]"
     ]
    },
    {
     "name": "stdout",
     "output_type": "stream",
     "text": [
      "Error in file: F:\\Productivity\\Work\\Furqan\\data\\bismillah\\Ahmed_ibn_Ali_al-Ajamy_128kbps_ketaballah.net\\22_57.mp3\n",
      "Error in file: F:\\Productivity\\Work\\Furqan\\data\\bismillah\\Ahmed_ibn_Ali_al-Ajamy_128kbps_ketaballah.net\\22_58.mp3\n"
     ]
    },
    {
     "name": "stderr",
     "output_type": "stream",
     "text": [
      "Pandas Apply:  26%|██▋       | 39008/147804 [7:40:05<5:49:45,  5.18it/s]"
     ]
    },
    {
     "name": "stdout",
     "output_type": "stream",
     "text": [
      "Error in file: F:\\Productivity\\Work\\Furqan\\data\\bismillah\\Ahmed_ibn_Ali_al-Ajamy_128kbps_ketaballah.net\\22_60.mp3\n"
     ]
    },
    {
     "name": "stderr",
     "output_type": "stream",
     "text": [
      "Pandas Apply:  26%|██▋       | 39010/147804 [7:40:05<6:35:56,  4.58it/s]"
     ]
    },
    {
     "name": "stdout",
     "output_type": "stream",
     "text": [
      "Error in file: F:\\Productivity\\Work\\Furqan\\data\\bismillah\\Ahmed_ibn_Ali_al-Ajamy_128kbps_ketaballah.net\\22_62.mp3\n",
      "Error in file: F:\\Productivity\\Work\\Furqan\\data\\bismillah\\Ahmed_ibn_Ali_al-Ajamy_128kbps_ketaballah.net\\22_63.mp3\n",
      "Error in file: F:\\Productivity\\Work\\Furqan\\data\\bismillah\\Ahmed_ibn_Ali_al-Ajamy_128kbps_ketaballah.net\\22_64.mp3\n"
     ]
    },
    {
     "name": "stderr",
     "output_type": "stream",
     "text": [
      "Pandas Apply:  26%|██▋       | 39014/147804 [7:40:06<7:13:26,  4.18it/s]"
     ]
    },
    {
     "name": "stdout",
     "output_type": "stream",
     "text": [
      "Error in file: F:\\Productivity\\Work\\Furqan\\data\\bismillah\\Ahmed_ibn_Ali_al-Ajamy_128kbps_ketaballah.net\\22_66.mp3\n"
     ]
    },
    {
     "name": "stderr",
     "output_type": "stream",
     "text": [
      "Pandas Apply:  26%|██▋       | 39016/147804 [7:40:07<8:03:15,  3.75it/s]"
     ]
    },
    {
     "name": "stdout",
     "output_type": "stream",
     "text": [
      "Error in file: F:\\Productivity\\Work\\Furqan\\data\\bismillah\\Ahmed_ibn_Ali_al-Ajamy_128kbps_ketaballah.net\\22_68.mp3\n"
     ]
    },
    {
     "name": "stderr",
     "output_type": "stream",
     "text": [
      "Pandas Apply:  26%|██▋       | 39018/147804 [7:40:08<7:30:05,  4.03it/s]"
     ]
    },
    {
     "name": "stdout",
     "output_type": "stream",
     "text": [
      "Error in file: F:\\Productivity\\Work\\Furqan\\data\\bismillah\\Ahmed_ibn_Ali_al-Ajamy_128kbps_ketaballah.net\\22_70.mp3\n",
      "Error in file: F:\\Productivity\\Work\\Furqan\\data\\bismillah\\Ahmed_ibn_Ali_al-Ajamy_128kbps_ketaballah.net\\22_71.mp3\n"
     ]
    },
    {
     "name": "stderr",
     "output_type": "stream",
     "text": [
      "Pandas Apply:  26%|██▋       | 39021/147804 [7:40:09<8:42:47,  3.47it/s]"
     ]
    },
    {
     "name": "stdout",
     "output_type": "stream",
     "text": [
      "Error in file: F:\\Productivity\\Work\\Furqan\\data\\bismillah\\Ahmed_ibn_Ali_al-Ajamy_128kbps_ketaballah.net\\22_73.mp3\n"
     ]
    },
    {
     "name": "stderr",
     "output_type": "stream",
     "text": [
      "Pandas Apply:  26%|██▋       | 39023/147804 [7:40:09<7:58:43,  3.79it/s]"
     ]
    },
    {
     "name": "stdout",
     "output_type": "stream",
     "text": [
      "Error in file: F:\\Productivity\\Work\\Furqan\\data\\bismillah\\Ahmed_ibn_Ali_al-Ajamy_128kbps_ketaballah.net\\22_75.mp3\n"
     ]
    },
    {
     "name": "stderr",
     "output_type": "stream",
     "text": [
      "Pandas Apply:  26%|██▋       | 39026/147804 [7:40:10<8:14:25,  3.67it/s]"
     ]
    },
    {
     "name": "stdout",
     "output_type": "stream",
     "text": [
      "Error in file: F:\\Productivity\\Work\\Furqan\\data\\bismillah\\Ahmed_ibn_Ali_al-Ajamy_128kbps_ketaballah.net\\22_78.mp3\n"
     ]
    },
    {
     "name": "stderr",
     "output_type": "stream",
     "text": [
      "Pandas Apply:  27%|██▋       | 39456/147804 [7:42:57<8:29:56,  3.54it/s] "
     ]
    },
    {
     "name": "stdout",
     "output_type": "stream",
     "text": [
      "Error in file: F:\\Productivity\\Work\\Furqan\\data\\bismillah\\Ahmed_ibn_Ali_al-Ajamy_128kbps_ketaballah.net\\26_175.mp3\n"
     ]
    },
    {
     "name": "stderr",
     "output_type": "stream",
     "text": [
      "Pandas Apply:  27%|██▋       | 39458/147804 [7:42:57<6:15:56,  4.80it/s]"
     ]
    },
    {
     "name": "stdout",
     "output_type": "stream",
     "text": [
      "Error in file: F:\\Productivity\\Work\\Furqan\\data\\bismillah\\Ahmed_ibn_Ali_al-Ajamy_128kbps_ketaballah.net\\26_177.mp3\n"
     ]
    },
    {
     "name": "stderr",
     "output_type": "stream",
     "text": [
      "Pandas Apply:  27%|██▋       | 39461/147804 [7:42:57<5:17:30,  5.69it/s]"
     ]
    },
    {
     "name": "stdout",
     "output_type": "stream",
     "text": [
      "Error in file: F:\\Productivity\\Work\\Furqan\\data\\bismillah\\Ahmed_ibn_Ali_al-Ajamy_128kbps_ketaballah.net\\26_180.mp3\n",
      "Error in file: F:\\Productivity\\Work\\Furqan\\data\\bismillah\\Ahmed_ibn_Ali_al-Ajamy_128kbps_ketaballah.net\\26_181.mp3\n"
     ]
    },
    {
     "name": "stderr",
     "output_type": "stream",
     "text": [
      "Pandas Apply:  27%|██▋       | 39464/147804 [7:42:58<3:55:25,  7.67it/s]"
     ]
    },
    {
     "name": "stdout",
     "output_type": "stream",
     "text": [
      "Error in file: F:\\Productivity\\Work\\Furqan\\data\\bismillah\\Ahmed_ibn_Ali_al-Ajamy_128kbps_ketaballah.net\\26_183.mp3\n",
      "Error in file: F:\\Productivity\\Work\\Furqan\\data\\bismillah\\Ahmed_ibn_Ali_al-Ajamy_128kbps_ketaballah.net\\26_184.mp3\n",
      "Error in file: F:\\Productivity\\Work\\Furqan\\data\\bismillah\\Ahmed_ibn_Ali_al-Ajamy_128kbps_ketaballah.net\\26_185.mp3\n"
     ]
    },
    {
     "name": "stderr",
     "output_type": "stream",
     "text": [
      "Pandas Apply:  27%|██▋       | 39469/147804 [7:42:58<4:24:06,  6.84it/s]"
     ]
    },
    {
     "name": "stdout",
     "output_type": "stream",
     "text": [
      "Error in file: F:\\Productivity\\Work\\Furqan\\data\\bismillah\\Ahmed_ibn_Ali_al-Ajamy_128kbps_ketaballah.net\\26_188.mp3\n"
     ]
    },
    {
     "name": "stderr",
     "output_type": "stream",
     "text": [
      "Pandas Apply:  27%|██▋       | 39476/147804 [7:43:00<6:36:39,  4.55it/s]"
     ]
    },
    {
     "name": "stdout",
     "output_type": "stream",
     "text": [
      "Error in file: F:\\Productivity\\Work\\Furqan\\data\\bismillah\\Ahmed_ibn_Ali_al-Ajamy_128kbps_ketaballah.net\\26_195.mp3\n"
     ]
    },
    {
     "name": "stderr",
     "output_type": "stream",
     "text": [
      "Pandas Apply:  27%|██▋       | 39478/147804 [7:43:00<5:12:44,  5.77it/s]"
     ]
    },
    {
     "name": "stdout",
     "output_type": "stream",
     "text": [
      "Error in file: F:\\Productivity\\Work\\Furqan\\data\\bismillah\\Ahmed_ibn_Ali_al-Ajamy_128kbps_ketaballah.net\\26_197.mp3\n"
     ]
    },
    {
     "name": "stderr",
     "output_type": "stream",
     "text": [
      "Pandas Apply:  27%|██▋       | 39480/147804 [7:43:00<4:36:15,  6.54it/s]"
     ]
    },
    {
     "name": "stdout",
     "output_type": "stream",
     "text": [
      "Error in file: F:\\Productivity\\Work\\Furqan\\data\\bismillah\\Ahmed_ibn_Ali_al-Ajamy_128kbps_ketaballah.net\\26_199.mp3\n"
     ]
    },
    {
     "name": "stderr",
     "output_type": "stream",
     "text": [
      "Pandas Apply:  27%|██▋       | 39484/147804 [7:43:01<6:00:25,  5.01it/s]"
     ]
    },
    {
     "name": "stdout",
     "output_type": "stream",
     "text": [
      "Error in file: F:\\Productivity\\Work\\Furqan\\data\\bismillah\\Ahmed_ibn_Ali_al-Ajamy_128kbps_ketaballah.net\\26_203.mp3\n",
      "Error in file: F:\\Productivity\\Work\\Furqan\\data\\bismillah\\Ahmed_ibn_Ali_al-Ajamy_128kbps_ketaballah.net\\26_204.mp3\n",
      "Error in file: F:\\Productivity\\Work\\Furqan\\data\\bismillah\\Ahmed_ibn_Ali_al-Ajamy_128kbps_ketaballah.net\\26_205.mp3\n",
      "Error in file: F:\\Productivity\\Work\\Furqan\\data\\bismillah\\Ahmed_ibn_Ali_al-Ajamy_128kbps_ketaballah.net\\26_206.mp3\n"
     ]
    },
    {
     "name": "stderr",
     "output_type": "stream",
     "text": [
      "Pandas Apply:  27%|██▋       | 39489/147804 [7:43:02<3:37:08,  8.31it/s]"
     ]
    },
    {
     "name": "stdout",
     "output_type": "stream",
     "text": [
      "Error in file: F:\\Productivity\\Work\\Furqan\\data\\bismillah\\Ahmed_ibn_Ali_al-Ajamy_128kbps_ketaballah.net\\26_208.mp3\n",
      "Error in file: F:\\Productivity\\Work\\Furqan\\data\\bismillah\\Ahmed_ibn_Ali_al-Ajamy_128kbps_ketaballah.net\\26_209.mp3\n",
      "Error in file: F:\\Productivity\\Work\\Furqan\\data\\bismillah\\Ahmed_ibn_Ali_al-Ajamy_128kbps_ketaballah.net\\26_210.mp3\n",
      "Error in file: F:\\Productivity\\Work\\Furqan\\data\\bismillah\\Ahmed_ibn_Ali_al-Ajamy_128kbps_ketaballah.net\\26_211.mp3\n",
      "Error in file: F:\\Productivity\\Work\\Furqan\\data\\bismillah\\Ahmed_ibn_Ali_al-Ajamy_128kbps_ketaballah.net\\26_212.mp3\n"
     ]
    },
    {
     "name": "stderr",
     "output_type": "stream",
     "text": [
      "Pandas Apply:  27%|██▋       | 39503/147804 [7:43:04<6:01:48,  4.99it/s]"
     ]
    },
    {
     "name": "stdout",
     "output_type": "stream",
     "text": [
      "Error in file: F:\\Productivity\\Work\\Furqan\\data\\bismillah\\Ahmed_ibn_Ali_al-Ajamy_128kbps_ketaballah.net\\26_222.mp3\n"
     ]
    },
    {
     "name": "stderr",
     "output_type": "stream",
     "text": [
      "Pandas Apply:  27%|██▋       | 39507/147804 [7:43:05<6:28:28,  4.65it/s]"
     ]
    },
    {
     "name": "stdout",
     "output_type": "stream",
     "text": [
      "Error in file: F:\\Productivity\\Work\\Furqan\\data\\bismillah\\Ahmed_ibn_Ali_al-Ajamy_128kbps_ketaballah.net\\26_226.mp3\n",
      "Error in file: F:\\Productivity\\Work\\Furqan\\data\\bismillah\\Ahmed_ibn_Ali_al-Ajamy_128kbps_ketaballah.net\\26_227.mp3\n"
     ]
    },
    {
     "name": "stderr",
     "output_type": "stream",
     "text": [
      "Pandas Apply:  27%|██▋       | 39850/147804 [7:46:11<20:11:26,  1.49it/s]"
     ]
    },
    {
     "name": "stdout",
     "output_type": "stream",
     "text": [
      "Error in file: F:\\Productivity\\Work\\Furqan\\data\\bismillah\\Ahmed_ibn_Ali_al-Ajamy_128kbps_ketaballah.net\\32_4.mp3\n",
      "Error in file: F:\\Productivity\\Work\\Furqan\\data\\bismillah\\Ahmed_ibn_Ali_al-Ajamy_128kbps_ketaballah.net\\32_5.mp3\n",
      "Error in file: F:\\Productivity\\Work\\Furqan\\data\\bismillah\\Ahmed_ibn_Ali_al-Ajamy_128kbps_ketaballah.net\\32_6.mp3\n",
      "Error in file: F:\\Productivity\\Work\\Furqan\\data\\bismillah\\Ahmed_ibn_Ali_al-Ajamy_128kbps_ketaballah.net\\32_7.mp3\n",
      "Error in file: F:\\Productivity\\Work\\Furqan\\data\\bismillah\\Ahmed_ibn_Ali_al-Ajamy_128kbps_ketaballah.net\\32_8.mp3\n",
      "Error in file: F:\\Productivity\\Work\\Furqan\\data\\bismillah\\Ahmed_ibn_Ali_al-Ajamy_128kbps_ketaballah.net\\32_9.mp3\n"
     ]
    },
    {
     "name": "stderr",
     "output_type": "stream",
     "text": [
      "Pandas Apply:  27%|██▋       | 39861/147804 [7:46:14<12:50:14,  2.34it/s]"
     ]
    },
    {
     "name": "stdout",
     "output_type": "stream",
     "text": [
      "Error in file: F:\\Productivity\\Work\\Furqan\\data\\bismillah\\Ahmed_ibn_Ali_al-Ajamy_128kbps_ketaballah.net\\32_15.mp3\n",
      "Error in file: F:\\Productivity\\Work\\Furqan\\data\\bismillah\\Ahmed_ibn_Ali_al-Ajamy_128kbps_ketaballah.net\\32_16.mp3\n"
     ]
    },
    {
     "name": "stderr",
     "output_type": "stream",
     "text": [
      "Pandas Apply:  27%|██▋       | 39866/147804 [7:46:15<11:16:46,  2.66it/s]"
     ]
    },
    {
     "name": "stdout",
     "output_type": "stream",
     "text": [
      "Error in file: F:\\Productivity\\Work\\Furqan\\data\\bismillah\\Ahmed_ibn_Ali_al-Ajamy_128kbps_ketaballah.net\\32_20.mp3\n",
      "Error in file: F:\\Productivity\\Work\\Furqan\\data\\bismillah\\Ahmed_ibn_Ali_al-Ajamy_128kbps_ketaballah.net\\32_21.mp3\n"
     ]
    },
    {
     "name": "stderr",
     "output_type": "stream",
     "text": [
      "Pandas Apply:  27%|██▋       | 39870/147804 [7:46:16<10:08:42,  2.96it/s]"
     ]
    },
    {
     "name": "stdout",
     "output_type": "stream",
     "text": [
      "Error in file: F:\\Productivity\\Work\\Furqan\\data\\bismillah\\Ahmed_ibn_Ali_al-Ajamy_128kbps_ketaballah.net\\32_24.mp3\n",
      "Error in file: F:\\Productivity\\Work\\Furqan\\data\\bismillah\\Ahmed_ibn_Ali_al-Ajamy_128kbps_ketaballah.net\\32_25.mp3\n",
      "Error in file: F:\\Productivity\\Work\\Furqan\\data\\bismillah\\Ahmed_ibn_Ali_al-Ajamy_128kbps_ketaballah.net\\32_26.mp3\n",
      "Error in file: F:\\Productivity\\Work\\Furqan\\data\\bismillah\\Ahmed_ibn_Ali_al-Ajamy_128kbps_ketaballah.net\\32_27.mp3\n",
      "Error in file: F:\\Productivity\\Work\\Furqan\\data\\bismillah\\Ahmed_ibn_Ali_al-Ajamy_128kbps_ketaballah.net\\32_28.mp3\n"
     ]
    },
    {
     "name": "stderr",
     "output_type": "stream",
     "text": [
      "Pandas Apply:  27%|██▋       | 39949/147804 [7:47:01<16:21:39,  1.83it/s]"
     ]
    },
    {
     "name": "stdout",
     "output_type": "stream",
     "text": [
      "Error in file: F:\\Productivity\\Work\\Furqan\\data\\bismillah\\Ahmed_ibn_Ali_al-Ajamy_128kbps_ketaballah.net\\34_2.mp3\n",
      "Error in file: F:\\Productivity\\Work\\Furqan\\data\\bismillah\\Ahmed_ibn_Ali_al-Ajamy_128kbps_ketaballah.net\\34_3.mp3\n"
     ]
    },
    {
     "name": "stderr",
     "output_type": "stream",
     "text": [
      "Pandas Apply:  27%|██▋       | 39954/147804 [7:47:02<11:04:13,  2.71it/s]"
     ]
    },
    {
     "name": "stdout",
     "output_type": "stream",
     "text": [
      "Error in file: F:\\Productivity\\Work\\Furqan\\data\\bismillah\\Ahmed_ibn_Ali_al-Ajamy_128kbps_ketaballah.net\\34_7.mp3\n"
     ]
    },
    {
     "name": "stderr",
     "output_type": "stream",
     "text": [
      "Pandas Apply:  27%|██▋       | 39958/147804 [7:47:04<12:56:02,  2.32it/s]"
     ]
    },
    {
     "name": "stdout",
     "output_type": "stream",
     "text": [
      "Error in file: F:\\Productivity\\Work\\Furqan\\data\\bismillah\\Ahmed_ibn_Ali_al-Ajamy_128kbps_ketaballah.net\\34_11.mp3\n",
      "Error in file: F:\\Productivity\\Work\\Furqan\\data\\bismillah\\Ahmed_ibn_Ali_al-Ajamy_128kbps_ketaballah.net\\34_12.mp3\n"
     ]
    },
    {
     "name": "stderr",
     "output_type": "stream",
     "text": [
      "Pandas Apply:  27%|██▋       | 39961/147804 [7:47:05<10:16:48,  2.91it/s]"
     ]
    },
    {
     "name": "stdout",
     "output_type": "stream",
     "text": [
      "Error in file: F:\\Productivity\\Work\\Furqan\\data\\bismillah\\Ahmed_ibn_Ali_al-Ajamy_128kbps_ketaballah.net\\34_14.mp3\n",
      "Error in file: F:\\Productivity\\Work\\Furqan\\data\\bismillah\\Ahmed_ibn_Ali_al-Ajamy_128kbps_ketaballah.net\\34_15.mp3\n",
      "Error in file: F:\\Productivity\\Work\\Furqan\\data\\bismillah\\Ahmed_ibn_Ali_al-Ajamy_128kbps_ketaballah.net\\34_16.mp3\n",
      "Error in file: F:\\Productivity\\Work\\Furqan\\data\\bismillah\\Ahmed_ibn_Ali_al-Ajamy_128kbps_ketaballah.net\\34_17.mp3\n"
     ]
    },
    {
     "name": "stderr",
     "output_type": "stream",
     "text": [
      "Pandas Apply:  27%|██▋       | 39967/147804 [7:47:06<8:41:47,  3.44it/s] "
     ]
    },
    {
     "name": "stdout",
     "output_type": "stream",
     "text": [
      "Error in file: F:\\Productivity\\Work\\Furqan\\data\\bismillah\\Ahmed_ibn_Ali_al-Ajamy_128kbps_ketaballah.net\\34_20.mp3\n",
      "Error in file: F:\\Productivity\\Work\\Furqan\\data\\bismillah\\Ahmed_ibn_Ali_al-Ajamy_128kbps_ketaballah.net\\34_21.mp3\n",
      "Error in file: F:\\Productivity\\Work\\Furqan\\data\\bismillah\\Ahmed_ibn_Ali_al-Ajamy_128kbps_ketaballah.net\\34_22.mp3\n"
     ]
    },
    {
     "name": "stderr",
     "output_type": "stream",
     "text": [
      "Pandas Apply:  27%|██▋       | 39972/147804 [7:47:07<8:18:04,  3.61it/s]"
     ]
    },
    {
     "name": "stdout",
     "output_type": "stream",
     "text": [
      "Error in file: F:\\Productivity\\Work\\Furqan\\data\\bismillah\\Ahmed_ibn_Ali_al-Ajamy_128kbps_ketaballah.net\\34_25.mp3\n",
      "Error in file: F:\\Productivity\\Work\\Furqan\\data\\bismillah\\Ahmed_ibn_Ali_al-Ajamy_128kbps_ketaballah.net\\34_26.mp3\n"
     ]
    },
    {
     "name": "stderr",
     "output_type": "stream",
     "text": [
      "Pandas Apply:  27%|██▋       | 39976/147804 [7:47:08<8:05:17,  3.70it/s]"
     ]
    },
    {
     "name": "stdout",
     "output_type": "stream",
     "text": [
      "Error in file: F:\\Productivity\\Work\\Furqan\\data\\bismillah\\Ahmed_ibn_Ali_al-Ajamy_128kbps_ketaballah.net\\34_29.mp3\n"
     ]
    },
    {
     "name": "stderr",
     "output_type": "stream",
     "text": [
      "Pandas Apply:  27%|██▋       | 39978/147804 [7:47:08<7:02:07,  4.26it/s]"
     ]
    },
    {
     "name": "stdout",
     "output_type": "stream",
     "text": [
      "Error in file: F:\\Productivity\\Work\\Furqan\\data\\bismillah\\Ahmed_ibn_Ali_al-Ajamy_128kbps_ketaballah.net\\34_31.mp3\n",
      "Error in file: F:\\Productivity\\Work\\Furqan\\data\\bismillah\\Ahmed_ibn_Ali_al-Ajamy_128kbps_ketaballah.net\\34_32.mp3\n"
     ]
    },
    {
     "name": "stderr",
     "output_type": "stream",
     "text": [
      "Pandas Apply:  27%|██▋       | 39984/147804 [7:47:11<9:44:25,  3.07it/s]"
     ]
    },
    {
     "name": "stdout",
     "output_type": "stream",
     "text": [
      "Error in file: F:\\Productivity\\Work\\Furqan\\data\\bismillah\\Ahmed_ibn_Ali_al-Ajamy_128kbps_ketaballah.net\\34_37.mp3\n"
     ]
    },
    {
     "name": "stderr",
     "output_type": "stream",
     "text": [
      "Pandas Apply:  27%|██▋       | 39986/147804 [7:47:11<8:10:07,  3.67it/s]"
     ]
    },
    {
     "name": "stdout",
     "output_type": "stream",
     "text": [
      "Error in file: F:\\Productivity\\Work\\Furqan\\data\\bismillah\\Ahmed_ibn_Ali_al-Ajamy_128kbps_ketaballah.net\\34_39.mp3\n"
     ]
    },
    {
     "name": "stderr",
     "output_type": "stream",
     "text": [
      "Pandas Apply:  27%|██▋       | 39988/147804 [7:47:12<8:49:54,  3.39it/s]"
     ]
    },
    {
     "name": "stdout",
     "output_type": "stream",
     "text": [
      "Error in file: F:\\Productivity\\Work\\Furqan\\data\\bismillah\\Ahmed_ibn_Ali_al-Ajamy_128kbps_ketaballah.net\\34_41.mp3\n",
      "Error in file: F:\\Productivity\\Work\\Furqan\\data\\bismillah\\Ahmed_ibn_Ali_al-Ajamy_128kbps_ketaballah.net\\34_42.mp3\n",
      "Error in file: F:\\Productivity\\Work\\Furqan\\data\\bismillah\\Ahmed_ibn_Ali_al-Ajamy_128kbps_ketaballah.net\\34_43.mp3\n"
     ]
    },
    {
     "name": "stderr",
     "output_type": "stream",
     "text": [
      "Pandas Apply:  27%|██▋       | 39992/147804 [7:47:12<6:24:01,  4.68it/s]"
     ]
    },
    {
     "name": "stdout",
     "output_type": "stream",
     "text": [
      "Error in file: F:\\Productivity\\Work\\Furqan\\data\\bismillah\\Ahmed_ibn_Ali_al-Ajamy_128kbps_ketaballah.net\\34_45.mp3\n",
      "Error in file: F:\\Productivity\\Work\\Furqan\\data\\bismillah\\Ahmed_ibn_Ali_al-Ajamy_128kbps_ketaballah.net\\34_46.mp3\n"
     ]
    },
    {
     "name": "stderr",
     "output_type": "stream",
     "text": [
      "Pandas Apply:  27%|██▋       | 39996/147804 [7:47:13<6:28:18,  4.63it/s]"
     ]
    },
    {
     "name": "stdout",
     "output_type": "stream",
     "text": [
      "Error in file: F:\\Productivity\\Work\\Furqan\\data\\bismillah\\Ahmed_ibn_Ali_al-Ajamy_128kbps_ketaballah.net\\34_49.mp3\n",
      "Error in file: F:\\Productivity\\Work\\Furqan\\data\\bismillah\\Ahmed_ibn_Ali_al-Ajamy_128kbps_ketaballah.net\\34_50.mp3\n"
     ]
    },
    {
     "name": "stderr",
     "output_type": "stream",
     "text": [
      "Pandas Apply:  27%|██▋       | 39999/147804 [7:47:13<5:20:23,  5.61it/s]"
     ]
    },
    {
     "name": "stdout",
     "output_type": "stream",
     "text": [
      "Error in file: F:\\Productivity\\Work\\Furqan\\data\\bismillah\\Ahmed_ibn_Ali_al-Ajamy_128kbps_ketaballah.net\\34_52.mp3\n",
      "Error in file: F:\\Productivity\\Work\\Furqan\\data\\bismillah\\Ahmed_ibn_Ali_al-Ajamy_128kbps_ketaballah.net\\34_53.mp3\n"
     ]
    },
    {
     "name": "stderr",
     "output_type": "stream",
     "text": [
      "Pandas Apply:  28%|██▊       | 40841/147804 [7:52:30<11:25:53,  2.60it/s]"
     ]
    },
    {
     "name": "stdout",
     "output_type": "stream",
     "text": [
      "Error in file: F:\\Productivity\\Work\\Furqan\\data\\bismillah\\Ahmed_ibn_Ali_al-Ajamy_128kbps_ketaballah.net\\46_2.mp3\n",
      "Error in file: F:\\Productivity\\Work\\Furqan\\data\\bismillah\\Ahmed_ibn_Ali_al-Ajamy_128kbps_ketaballah.net\\46_3.mp3\n"
     ]
    },
    {
     "name": "stderr",
     "output_type": "stream",
     "text": [
      "Pandas Apply:  28%|██▊       | 40847/147804 [7:52:32<15:03:24,  1.97it/s]"
     ]
    },
    {
     "name": "stdout",
     "output_type": "stream",
     "text": [
      "Error in file: F:\\Productivity\\Work\\Furqan\\data\\bismillah\\Ahmed_ibn_Ali_al-Ajamy_128kbps_ketaballah.net\\46_8.mp3\n"
     ]
    },
    {
     "name": "stderr",
     "output_type": "stream",
     "text": [
      "Pandas Apply:  28%|██▊       | 40850/147804 [7:52:34<15:21:49,  1.93it/s]"
     ]
    },
    {
     "name": "stdout",
     "output_type": "stream",
     "text": [
      "Error in file: F:\\Productivity\\Work\\Furqan\\data\\bismillah\\Ahmed_ibn_Ali_al-Ajamy_128kbps_ketaballah.net\\46_11.mp3\n"
     ]
    },
    {
     "name": "stderr",
     "output_type": "stream",
     "text": [
      "Pandas Apply:  28%|██▊       | 40853/147804 [7:52:35<13:25:36,  2.21it/s]"
     ]
    },
    {
     "name": "stdout",
     "output_type": "stream",
     "text": [
      "Error in file: F:\\Productivity\\Work\\Furqan\\data\\bismillah\\Ahmed_ibn_Ali_al-Ajamy_128kbps_ketaballah.net\\46_14.mp3\n",
      "Error in file: F:\\Productivity\\Work\\Furqan\\data\\bismillah\\Ahmed_ibn_Ali_al-Ajamy_128kbps_ketaballah.net\\46_15.mp3\n"
     ]
    },
    {
     "name": "stderr",
     "output_type": "stream",
     "text": [
      "Pandas Apply:  28%|██▊       | 40859/147804 [7:52:38<13:15:16,  2.24it/s]"
     ]
    },
    {
     "name": "stdout",
     "output_type": "stream",
     "text": [
      "Error in file: F:\\Productivity\\Work\\Furqan\\data\\bismillah\\Ahmed_ibn_Ali_al-Ajamy_128kbps_ketaballah.net\\46_20.mp3\n"
     ]
    },
    {
     "name": "stderr",
     "output_type": "stream",
     "text": [
      "Pandas Apply:  28%|██▊       | 40861/147804 [7:52:38<13:41:32,  2.17it/s]"
     ]
    },
    {
     "name": "stdout",
     "output_type": "stream",
     "text": [
      "Error in file: F:\\Productivity\\Work\\Furqan\\data\\bismillah\\Ahmed_ibn_Ali_al-Ajamy_128kbps_ketaballah.net\\46_22.mp3\n",
      "Error in file: F:\\Productivity\\Work\\Furqan\\data\\bismillah\\Ahmed_ibn_Ali_al-Ajamy_128kbps_ketaballah.net\\46_23.mp3\n"
     ]
    },
    {
     "name": "stderr",
     "output_type": "stream",
     "text": [
      "Pandas Apply:  28%|██▊       | 40869/147804 [7:52:43<16:41:41,  1.78it/s]"
     ]
    },
    {
     "name": "stdout",
     "output_type": "stream",
     "text": [
      "Error in file: F:\\Productivity\\Work\\Furqan\\data\\bismillah\\Ahmed_ibn_Ali_al-Ajamy_128kbps_ketaballah.net\\46_30.mp3\n"
     ]
    },
    {
     "name": "stderr",
     "output_type": "stream",
     "text": [
      "Pandas Apply:  28%|██▊       | 40872/147804 [7:52:44<13:44:35,  2.16it/s]"
     ]
    },
    {
     "name": "stdout",
     "output_type": "stream",
     "text": [
      "Error in file: F:\\Productivity\\Work\\Furqan\\data\\bismillah\\Ahmed_ibn_Ali_al-Ajamy_128kbps_ketaballah.net\\46_33.mp3\n"
     ]
    },
    {
     "name": "stderr",
     "output_type": "stream",
     "text": [
      "Pandas Apply:  30%|██▉       | 43741/147804 [8:14:31<12:50:20,  2.25it/s]"
     ]
    },
    {
     "name": "stdout",
     "output_type": "stream",
     "text": [
      "Error in file: F:\\Productivity\\Work\\Furqan\\data\\bismillah\\Akram_AlAlaqimy_128kbps\\7_187.mp3\n"
     ]
    },
    {
     "name": "stderr",
     "output_type": "stream",
     "text": [
      "Pandas Apply:  30%|██▉       | 43930/147804 [8:16:24<16:08:01,  1.79it/s]"
     ]
    },
    {
     "name": "stdout",
     "output_type": "stream",
     "text": [
      "Error in file: F:\\Productivity\\Work\\Furqan\\data\\bismillah\\Akram_AlAlaqimy_128kbps\\9_97.mp3\n"
     ]
    },
    {
     "name": "stderr",
     "output_type": "stream",
     "text": [
      "Pandas Apply:  30%|███       | 44833/147804 [8:23:55<7:42:05,  3.71it/s] "
     ]
    },
    {
     "name": "stdout",
     "output_type": "stream",
     "text": [
      "Error in file: F:\\Productivity\\Work\\Furqan\\data\\bismillah\\Akram_AlAlaqimy_128kbps\\18_102.mp3\n"
     ]
    },
    {
     "name": "stderr",
     "output_type": "stream",
     "text": [
      "Pandas Apply:  31%|███       | 45351/147804 [8:27:14<9:06:08,  3.13it/s] "
     ]
    },
    {
     "name": "stdout",
     "output_type": "stream",
     "text": [
      "Error in file: F:\\Productivity\\Work\\Furqan\\data\\bismillah\\Akram_AlAlaqimy_128kbps\\23_94.mp3\n"
     ]
    },
    {
     "name": "stderr",
     "output_type": "stream",
     "text": [
      "Pandas Apply:  32%|███▏      | 46963/147804 [8:38:07<8:29:49,  3.30it/s] "
     ]
    },
    {
     "name": "stdout",
     "output_type": "stream",
     "text": [
      "Error in file: F:\\Productivity\\Work\\Furqan\\data\\bismillah\\Akram_AlAlaqimy_128kbps\\43_74.mp3\n"
     ]
    },
    {
     "name": "stderr",
     "output_type": "stream",
     "text": [
      "Pandas Apply:  33%|███▎      | 48622/147804 [8:46:09<3:35:44,  7.66it/s] "
     ]
    },
    {
     "name": "stdout",
     "output_type": "stream",
     "text": [
      "Error in file: F:\\Productivity\\Work\\Furqan\\data\\bismillah\\Akram_AlAlaqimy_128kbps\\96_3.mp3\n"
     ]
    },
    {
     "name": "stderr",
     "output_type": "stream",
     "text": [
      "Pandas Apply:  33%|███▎      | 48694/147804 [8:46:22<3:27:48,  7.95it/s] "
     ]
    },
    {
     "name": "stdout",
     "output_type": "stream",
     "text": [
      "Error in file: F:\\Productivity\\Work\\Furqan\\data\\bismillah\\Akram_AlAlaqimy_128kbps\\105_2.mp3\n"
     ]
    },
    {
     "name": "stderr",
     "output_type": "stream",
     "text": [
      "Pandas Apply:  34%|███▍      | 50699/147804 [9:09:54<19:03:15,  1.42it/s]"
     ]
    },
    {
     "name": "stdout",
     "output_type": "stream",
     "text": [
      "Error in file: F:\\Productivity\\Work\\Furqan\\data\\bismillah\\Ali_Hajjaj_AlSuesy_128kbps\\12_77.mp3\n"
     ]
    },
    {
     "name": "stderr",
     "output_type": "stream",
     "text": [
      "Pandas Apply:  45%|████▍     | 66371/147804 [9:49:09<13:11:27,  1.71it/s]"
     ]
    },
    {
     "name": "stdout",
     "output_type": "stream",
     "text": [
      "Error in file: F:\\Productivity\\Work\\Furqan\\data\\bismillah\\Hani_Rifai_192kbps\\6_165.mp3\n"
     ]
    },
    {
     "name": "stderr",
     "output_type": "stream",
     "text": [
      "Pandas Apply:  45%|████▍     | 66458/147804 [9:49:55<14:27:43,  1.56it/s]"
     ]
    },
    {
     "name": "stdout",
     "output_type": "stream",
     "text": [
      "Error in file: F:\\Productivity\\Work\\Furqan\\data\\bismillah\\Hani_Rifai_192kbps\\7_88.mp3\n"
     ]
    },
    {
     "name": "stderr",
     "output_type": "stream",
     "text": [
      "Pandas Apply:  45%|████▌     | 66526/147804 [9:50:28<17:53:40,  1.26it/s]"
     ]
    },
    {
     "name": "stdout",
     "output_type": "stream",
     "text": [
      "Error in file: F:\\Productivity\\Work\\Furqan\\data\\bismillah\\Hani_Rifai_192kbps\\7_156.mp3\n"
     ]
    },
    {
     "name": "stderr",
     "output_type": "stream",
     "text": [
      "Pandas Apply:  45%|████▌     | 66713/147804 [9:52:15<11:59:56,  1.88it/s]"
     ]
    },
    {
     "name": "stdout",
     "output_type": "stream",
     "text": [
      "Error in file: F:\\Productivity\\Work\\Furqan\\data\\bismillah\\Hani_Rifai_192kbps\\9_64.mp3\n"
     ]
    },
    {
     "name": "stderr",
     "output_type": "stream",
     "text": [
      "Pandas Apply:  45%|████▌     | 66794/147804 [9:53:06<14:20:01,  1.57it/s]"
     ]
    },
    {
     "name": "stdout",
     "output_type": "stream",
     "text": [
      "Error in file: F:\\Productivity\\Work\\Furqan\\data\\bismillah\\Hani_Rifai_192kbps\\10_17.mp3\n"
     ]
    },
    {
     "name": "stderr",
     "output_type": "stream",
     "text": [
      "Pandas Apply:  45%|████▌     | 66826/147804 [9:53:24<8:32:02,  2.64it/s] "
     ]
    },
    {
     "name": "stdout",
     "output_type": "stream",
     "text": [
      "Error in file: F:\\Productivity\\Work\\Furqan\\data\\bismillah\\Hani_Rifai_192kbps\\10_49.mp3\n"
     ]
    },
    {
     "name": "stderr",
     "output_type": "stream",
     "text": [
      "Pandas Apply:  46%|████▌     | 67529/147804 [9:58:44<10:04:43,  2.21it/s]"
     ]
    },
    {
     "name": "stdout",
     "output_type": "stream",
     "text": [
      "Error in file: F:\\Productivity\\Work\\Furqan\\data\\bismillah\\Hani_Rifai_192kbps\\17_94.mp3\n"
     ]
    },
    {
     "name": "stderr",
     "output_type": "stream",
     "text": [
      "Pandas Apply:  46%|████▌     | 67622/147804 [9:59:26<6:54:20,  3.23it/s] "
     ]
    },
    {
     "name": "stdout",
     "output_type": "stream",
     "text": [
      "Error in file: F:\\Productivity\\Work\\Furqan\\data\\bismillah\\Hani_Rifai_192kbps\\18_77.mp3\n"
     ]
    },
    {
     "name": "stderr",
     "output_type": "stream",
     "text": [
      "Pandas Apply:  46%|████▌     | 68305/147804 [10:03:51<5:34:20,  3.96it/s] "
     ]
    },
    {
     "name": "stdout",
     "output_type": "stream",
     "text": [
      "Error in file: F:\\Productivity\\Work\\Furqan\\data\\bismillah\\Hani_Rifai_192kbps\\25_50.mp3\n"
     ]
    },
    {
     "name": "stderr",
     "output_type": "stream",
     "text": [
      "Pandas Apply:  46%|████▌     | 68310/147804 [10:03:53<5:22:51,  4.10it/s]"
     ]
    },
    {
     "name": "stdout",
     "output_type": "stream",
     "text": [
      "Error in file: F:\\Productivity\\Work\\Furqan\\data\\bismillah\\Hani_Rifai_192kbps\\25_55.mp3\n"
     ]
    },
    {
     "name": "stderr",
     "output_type": "stream",
     "text": [
      "Pandas Apply:  47%|████▋     | 68806/147804 [10:06:46<6:41:06,  3.28it/s] "
     ]
    },
    {
     "name": "stdout",
     "output_type": "stream",
     "text": [
      "Error in file: F:\\Productivity\\Work\\Furqan\\data\\bismillah\\Hani_Rifai_192kbps\\30_4.mp3\n"
     ]
    },
    {
     "name": "stderr",
     "output_type": "stream",
     "text": [
      "Pandas Apply:  47%|████▋     | 68900/147804 [10:07:30<12:50:09,  1.71it/s]"
     ]
    },
    {
     "name": "stdout",
     "output_type": "stream",
     "text": [
      "Error in file: F:\\Productivity\\Work\\Furqan\\data\\bismillah\\Hani_Rifai_192kbps\\32_6.mp3\n"
     ]
    },
    {
     "name": "stderr",
     "output_type": "stream",
     "text": [
      "Pandas Apply:  48%|████▊     | 70777/147804 [10:18:36<6:26:41,  3.32it/s] "
     ]
    },
    {
     "name": "stdout",
     "output_type": "stream",
     "text": [
      "Error in file: F:\\Productivity\\Work\\Furqan\\data\\bismillah\\Hani_Rifai_192kbps\\71_6.mp3\n"
     ]
    },
    {
     "name": "stderr",
     "output_type": "stream",
     "text": [
      "Pandas Apply:  48%|████▊     | 70892/147804 [10:19:06<2:32:35,  8.40it/s] "
     ]
    },
    {
     "name": "stdout",
     "output_type": "stream",
     "text": [
      "Error in file: F:\\Productivity\\Work\\Furqan\\data\\bismillah\\Hani_Rifai_192kbps\\74_46.mp3\n"
     ]
    },
    {
     "name": "stderr",
     "output_type": "stream",
     "text": [
      "Pandas Apply:  48%|████▊     | 71182/147804 [10:19:51<2:18:25,  9.23it/s]"
     ]
    },
    {
     "name": "stdout",
     "output_type": "stream",
     "text": [
      "Error in file: F:\\Productivity\\Work\\Furqan\\data\\bismillah\\Hani_Rifai_192kbps\\82_10.mp3\n"
     ]
    },
    {
     "name": "stderr",
     "output_type": "stream",
     "text": [
      "Pandas Apply:  48%|████▊     | 71328/147804 [10:20:11<1:53:52, 11.19it/s]"
     ]
    },
    {
     "name": "stdout",
     "output_type": "stream",
     "text": [
      "Error in file: F:\\Productivity\\Work\\Furqan\\data\\bismillah\\Hani_Rifai_192kbps\\88_24.mp3\n",
      "Error in file: F:\\Productivity\\Work\\Furqan\\data\\bismillah\\Hani_Rifai_192kbps\\88_26.mp3\n"
     ]
    },
    {
     "name": "stderr",
     "output_type": "stream",
     "text": [
      "Pandas Apply:  49%|████▉     | 72760/147804 [10:40:35<18:13:02,  1.14it/s]"
     ]
    },
    {
     "name": "stdout",
     "output_type": "stream",
     "text": [
      "Error in file: F:\\Productivity\\Work\\Furqan\\data\\bismillah\\Husary_128kbps\\6_133.mp3\n"
     ]
    },
    {
     "name": "stderr",
     "output_type": "stream",
     "text": [
      "Pandas Apply:  49%|████▉     | 72784/147804 [10:41:05<21:36:20,  1.04s/it]"
     ]
    },
    {
     "name": "stdout",
     "output_type": "stream",
     "text": [
      "Error in file: F:\\Productivity\\Work\\Furqan\\data\\bismillah\\Husary_128kbps\\6_157.mp3\n"
     ]
    },
    {
     "name": "stderr",
     "output_type": "stream",
     "text": [
      "Pandas Apply:  51%|█████     | 74976/147804 [11:06:23<6:06:58,  3.31it/s] "
     ]
    },
    {
     "name": "stdout",
     "output_type": "stream",
     "text": [
      "Error in file: F:\\Productivity\\Work\\Furqan\\data\\bismillah\\Husary_128kbps\\26_226.mp3\n"
     ]
    },
    {
     "name": "stderr",
     "output_type": "stream",
     "text": [
      "Pandas Apply:  52%|█████▏    | 76575/147804 [11:23:57<8:39:50,  2.28it/s] "
     ]
    },
    {
     "name": "stdout",
     "output_type": "stream",
     "text": [
      "Error in file: F:\\Productivity\\Work\\Furqan\\data\\bismillah\\Husary_128kbps\\52_48.mp3\n"
     ]
    },
    {
     "name": "stderr",
     "output_type": "stream",
     "text": [
      "Pandas Apply:  52%|█████▏    | 76664/147804 [11:24:26<7:06:10,  2.78it/s] "
     ]
    },
    {
     "name": "stdout",
     "output_type": "stream",
     "text": [
      "Error in file: F:\\Productivity\\Work\\Furqan\\data\\bismillah\\Husary_128kbps\\54_28.mp3\n"
     ]
    },
    {
     "name": "stderr",
     "output_type": "stream",
     "text": [
      "Pandas Apply:  74%|███████▎  | 108761/147804 [16:19:19<9:15:49,  1.17it/s] "
     ]
    },
    {
     "name": "stdout",
     "output_type": "stream",
     "text": [
      "Error in file: F:\\Productivity\\Work\\Furqan\\data\\bismillah\\Mohammad_al_Tablaway_128kbps\\6_9.mp3\n"
     ]
    },
    {
     "name": "stderr",
     "output_type": "stream",
     "text": [
      "Pandas Apply:  75%|███████▌  | 111282/147804 [16:43:43<5:31:52,  1.83it/s] "
     ]
    },
    {
     "name": "stdout",
     "output_type": "stream",
     "text": [
      "Error in file: F:\\Productivity\\Work\\Furqan\\data\\bismillah\\Mohammad_al_Tablaway_128kbps\\29_2.mp3\n"
     ]
    },
    {
     "name": "stderr",
     "output_type": "stream",
     "text": [
      "Pandas Apply:  75%|███████▌  | 111378/147804 [16:44:32<6:01:52,  1.68it/s] "
     ]
    },
    {
     "name": "stdout",
     "output_type": "stream",
     "text": [
      "Error in file: F:\\Productivity\\Work\\Furqan\\data\\bismillah\\Muhammad_Ayyoub_128kbps\\2_15.mp3\n"
     ]
    },
    {
     "name": "stderr",
     "output_type": "stream",
     "text": [
      "Pandas Apply:  78%|███████▊  | 115032/147804 [17:27:44<4:10:17,  2.18it/s] "
     ]
    },
    {
     "name": "stdout",
     "output_type": "stream",
     "text": [
      "Error in file: F:\\Productivity\\Work\\Furqan\\data\\bismillah\\Muhammad_Ayyoub_128kbps\\36_5.mp3\n"
     ]
    },
    {
     "name": "stderr",
     "output_type": "stream",
     "text": [
      "Pandas Apply:  78%|███████▊  | 115825/147804 [17:34:14<3:29:33,  2.54it/s] "
     ]
    },
    {
     "name": "stdout",
     "output_type": "stream",
     "text": [
      "Error in file: F:\\Productivity\\Work\\Furqan\\data\\bismillah\\Muhammad_Ayyoub_128kbps\\46_3.mp3\n"
     ]
    },
    {
     "name": "stderr",
     "output_type": "stream",
     "text": [
      "Pandas Apply:  84%|████████▍ | 124313/147804 [18:40:50<3:44:04,  1.75it/s] "
     ]
    },
    {
     "name": "stdout",
     "output_type": "stream",
     "text": [
      "Error in file: F:\\Productivity\\Work\\Furqan\\data\\bismillah\\Muhsin_Al_Qasim_192kbps\\5_57.mp3\n"
     ]
    },
    {
     "name": "stderr",
     "output_type": "stream",
     "text": [
      "Pandas Apply:  86%|████████▌ | 126412/147804 [18:55:46<2:38:48,  2.25it/s]"
     ]
    },
    {
     "name": "stdout",
     "output_type": "stream",
     "text": [
      "Error in file: F:\\Productivity\\Work\\Furqan\\data\\bismillah\\Muhsin_Al_Qasim_192kbps\\24_53.mp3\n"
     ]
    },
    {
     "name": "stderr",
     "output_type": "stream",
     "text": [
      "Pandas Apply:  86%|████████▌ | 127132/147804 [18:59:54<4:03:53,  1.41it/s]"
     ]
    },
    {
     "name": "stdout",
     "output_type": "stream",
     "text": [
      "Error in file: F:\\Productivity\\Work\\Furqan\\data\\bismillah\\Muhsin_Al_Qasim_192kbps\\33_40.mp3\n"
     ]
    },
    {
     "name": "stderr",
     "output_type": "stream",
     "text": [
      "Pandas Apply:  86%|████████▌ | 127163/147804 [19:00:12<2:23:18,  2.40it/s]"
     ]
    },
    {
     "name": "stdout",
     "output_type": "stream",
     "text": [
      "Error in file: F:\\Productivity\\Work\\Furqan\\data\\bismillah\\Muhsin_Al_Qasim_192kbps\\33_71.mp3\n"
     ]
    },
    {
     "name": "stderr",
     "output_type": "stream",
     "text": [
      "Pandas Apply:  88%|████████▊ | 129343/147804 [19:11:18<50:41,  6.07it/s]  "
     ]
    },
    {
     "name": "stdout",
     "output_type": "stream",
     "text": [
      "Error in file: F:\\Productivity\\Work\\Furqan\\data\\bismillah\\Muhsin_Al_Qasim_192kbps\\82_2.mp3\n"
     ]
    },
    {
     "name": "stderr",
     "output_type": "stream",
     "text": [
      "Pandas Apply:  88%|████████▊ | 129574/147804 [19:11:54<29:41, 10.23it/s]  "
     ]
    },
    {
     "name": "stdout",
     "output_type": "stream",
     "text": [
      "Error in file: F:\\Productivity\\Work\\Furqan\\data\\bismillah\\Muhsin_Al_Qasim_192kbps\\92_14.mp3\n"
     ]
    },
    {
     "name": "stderr",
     "output_type": "stream",
     "text": [
      "Pandas Apply:  90%|█████████ | 133538/147804 [19:26:48<2:52:11,  1.38it/s]"
     ]
    },
    {
     "name": "stdout",
     "output_type": "stream",
     "text": [
      "Error in file: F:\\Productivity\\Work\\Furqan\\data\\bismillah\\Salaah_AbdulRahman_Bukhatir_128kbps\\3_185.mp3\n"
     ]
    },
    {
     "name": "stderr",
     "output_type": "stream",
     "text": [
      "Pandas Apply:  91%|█████████ | 134047/147804 [19:32:24<2:19:44,  1.64it/s]"
     ]
    },
    {
     "name": "stdout",
     "output_type": "stream",
     "text": [
      "Error in file: F:\\Productivity\\Work\\Furqan\\data\\bismillah\\Salaah_AbdulRahman_Bukhatir_128kbps\\7_37.mp3\n"
     ]
    },
    {
     "name": "stderr",
     "output_type": "stream",
     "text": [
      "Pandas Apply:  91%|█████████ | 134606/147804 [19:37:46<1:31:51,  2.39it/s]"
     ]
    },
    {
     "name": "stdout",
     "output_type": "stream",
     "text": [
      "Error in file: F:\\Productivity\\Work\\Furqan\\data\\bismillah\\Salaah_AbdulRahman_Bukhatir_128kbps\\11_81.mp3\n"
     ]
    },
    {
     "name": "stderr",
     "output_type": "stream",
     "text": [
      "Pandas Apply:  91%|█████████ | 134637/147804 [19:38:02<1:55:10,  1.91it/s]"
     ]
    },
    {
     "name": "stdout",
     "output_type": "stream",
     "text": [
      "Error in file: F:\\Productivity\\Work\\Furqan\\data\\bismillah\\Salaah_AbdulRahman_Bukhatir_128kbps\\11_112.mp3\n"
     ]
    },
    {
     "name": "stderr",
     "output_type": "stream",
     "text": [
      "Pandas Apply:  91%|█████████ | 134763/147804 [19:39:07<3:05:10,  1.17it/s]"
     ]
    },
    {
     "name": "stdout",
     "output_type": "stream",
     "text": [
      "Error in file: F:\\Productivity\\Work\\Furqan\\data\\bismillah\\Salaah_AbdulRahman_Bukhatir_128kbps\\13_6.mp3\n"
     ]
    },
    {
     "name": "stderr",
     "output_type": "stream",
     "text": [
      "Pandas Apply:  91%|█████████ | 134802/147804 [19:39:30<1:44:06,  2.08it/s]"
     ]
    },
    {
     "name": "stdout",
     "output_type": "stream",
     "text": [
      "Error in file: F:\\Productivity\\Work\\Furqan\\data\\bismillah\\Salaah_AbdulRahman_Bukhatir_128kbps\\14_3.mp3\n"
     ]
    },
    {
     "name": "stderr",
     "output_type": "stream",
     "text": [
      "Pandas Apply:  91%|█████████ | 134848/147804 [19:39:57<2:01:59,  1.77it/s]"
     ]
    },
    {
     "name": "stdout",
     "output_type": "stream",
     "text": [
      "Error in file: F:\\Productivity\\Work\\Furqan\\data\\bismillah\\Salaah_AbdulRahman_Bukhatir_128kbps\\14_49.mp3\n"
     ]
    },
    {
     "name": "stderr",
     "output_type": "stream",
     "text": [
      "Pandas Apply:  91%|█████████▏| 135048/147804 [19:41:10<1:32:40,  2.29it/s]"
     ]
    },
    {
     "name": "stdout",
     "output_type": "stream",
     "text": [
      "Error in file: F:\\Productivity\\Work\\Furqan\\data\\bismillah\\Salaah_AbdulRahman_Bukhatir_128kbps\\16_100.mp3\n"
     ]
    },
    {
     "name": "stderr",
     "output_type": "stream",
     "text": [
      "Pandas Apply:  91%|█████████▏| 135079/147804 [19:41:24<1:20:38,  2.63it/s]"
     ]
    },
    {
     "name": "stdout",
     "output_type": "stream",
     "text": [
      "Error in file: F:\\Productivity\\Work\\Furqan\\data\\bismillah\\Salaah_AbdulRahman_Bukhatir_128kbps\\17_4.mp3\n"
     ]
    },
    {
     "name": "stderr",
     "output_type": "stream",
     "text": [
      "Pandas Apply:  91%|█████████▏| 135082/147804 [19:41:25<1:34:23,  2.25it/s]"
     ]
    },
    {
     "name": "stdout",
     "output_type": "stream",
     "text": [
      "Error in file: F:\\Productivity\\Work\\Furqan\\data\\bismillah\\Salaah_AbdulRahman_Bukhatir_128kbps\\17_7.mp3\n"
     ]
    },
    {
     "name": "stderr",
     "output_type": "stream",
     "text": [
      "Pandas Apply:  92%|█████████▏| 135796/147804 [19:46:00<54:31,  3.67it/s]  "
     ]
    },
    {
     "name": "stdout",
     "output_type": "stream",
     "text": [
      "Error in file: F:\\Productivity\\Work\\Furqan\\data\\bismillah\\Salaah_AbdulRahman_Bukhatir_128kbps\\23_83.mp3\n"
     ]
    },
    {
     "name": "stderr",
     "output_type": "stream",
     "text": [
      "Pandas Apply:  92%|█████████▏| 136256/147804 [19:48:38<2:01:12,  1.59it/s]"
     ]
    },
    {
     "name": "stdout",
     "output_type": "stream",
     "text": [
      "Error in file: F:\\Productivity\\Work\\Furqan\\data\\bismillah\\Salaah_AbdulRahman_Bukhatir_128kbps\\27_61.mp3\n"
     ]
    },
    {
     "name": "stderr",
     "output_type": "stream",
     "text": [
      "Pandas Apply:  93%|█████████▎| 136897/147804 [19:53:25<25:14,  7.20it/s]  "
     ]
    },
    {
     "name": "stdout",
     "output_type": "stream",
     "text": [
      "Error in file: F:\\Productivity\\Work\\Furqan\\data\\bismillah\\Salaah_AbdulRahman_Bukhatir_128kbps\\37_81.mp3\n"
     ]
    },
    {
     "name": "stderr",
     "output_type": "stream",
     "text": [
      "Pandas Apply:  93%|█████████▎| 137801/147804 [19:59:25<23:07,  7.21it/s]  "
     ]
    },
    {
     "name": "stdout",
     "output_type": "stream",
     "text": [
      "Error in file: F:\\Productivity\\Work\\Furqan\\data\\bismillah\\Salaah_AbdulRahman_Bukhatir_128kbps\\53_5.mp3\n"
     ]
    },
    {
     "name": "stderr",
     "output_type": "stream",
     "text": [
      "Pandas Apply:  94%|█████████▍| 139327/147804 [20:06:21<1:23:24,  1.69it/s]"
     ]
    },
    {
     "name": "stdout",
     "output_type": "stream",
     "text": [
      "Error in file: F:\\Productivity\\Work\\Furqan\\data\\bismillah\\Salah_Al_Budair_128kbps\\2_142.mp3\n"
     ]
    },
    {
     "name": "stderr",
     "output_type": "stream",
     "text": [
      "Pandas Apply:  95%|█████████▍| 140399/147804 [20:16:45<1:22:14,  1.50it/s]"
     ]
    },
    {
     "name": "stdout",
     "output_type": "stream",
     "text": [
      "Error in file: F:\\Productivity\\Work\\Furqan\\data\\bismillah\\Salah_Al_Budair_128kbps\\8_67.mp3\n"
     ]
    },
    {
     "name": "stderr",
     "output_type": "stream",
     "text": [
      "Pandas Apply:  95%|█████████▌| 140603/147804 [20:18:53<1:06:31,  1.80it/s]"
     ]
    },
    {
     "name": "stdout",
     "output_type": "stream",
     "text": [
      "Error in file: F:\\Productivity\\Work\\Furqan\\data\\bismillah\\Salah_Al_Budair_128kbps\\10_69.mp3\n"
     ]
    },
    {
     "name": "stderr",
     "output_type": "stream",
     "text": [
      "Pandas Apply:  97%|█████████▋| 143373/147804 [20:36:27<36:31,  2.02it/s]  "
     ]
    },
    {
     "name": "stdout",
     "output_type": "stream",
     "text": [
      "Error in file: F:\\Productivity\\Work\\Furqan\\data\\bismillah\\Salah_Al_Budair_128kbps\\41_15.mp3\n"
     ]
    },
    {
     "name": "stderr",
     "output_type": "stream",
     "text": [
      "Pandas Apply:  98%|█████████▊| 144606/147804 [20:43:14<21:11,  2.51it/s]  "
     ]
    },
    {
     "name": "stdout",
     "output_type": "stream",
     "text": [
      "Error in file: F:\\Productivity\\Work\\Furqan\\data\\bismillah\\Salah_Al_Budair_128kbps\\74_2.mp3\n"
     ]
    },
    {
     "name": "stderr",
     "output_type": "stream",
     "text": [
      "Pandas Apply: 100%|██████████| 147804/147804 [21:12:51<00:00,  1.94it/s]  \n"
     ]
    }
   ],
   "source": [
    "combined_df['voice_length'] = combined_df['file_path'].swifter.apply(get_voice_length)"
   ]
  },
  {
   "cell_type": "code",
   "execution_count": 14,
   "metadata": {},
   "outputs": [
    {
     "data": {
      "text/html": [
       "<div>\n",
       "<style scoped>\n",
       "    .dataframe tbody tr th:only-of-type {\n",
       "        vertical-align: middle;\n",
       "    }\n",
       "\n",
       "    .dataframe tbody tr th {\n",
       "        vertical-align: top;\n",
       "    }\n",
       "\n",
       "    .dataframe thead th {\n",
       "        text-align: right;\n",
       "    }\n",
       "</style>\n",
       "<table border=\"1\" class=\"dataframe\">\n",
       "  <thead>\n",
       "    <tr style=\"text-align: right;\">\n",
       "      <th></th>\n",
       "      <th>surah_number</th>\n",
       "      <th>aayah_number</th>\n",
       "      <th>transcription</th>\n",
       "      <th>file_path</th>\n",
       "      <th>voice_length</th>\n",
       "    </tr>\n",
       "  </thead>\n",
       "  <tbody>\n",
       "    <tr>\n",
       "      <th>0</th>\n",
       "      <td>1</td>\n",
       "      <td>2</td>\n",
       "      <td>الْحَمْدُ لِلَّهِ رَبِّ الْعَالَمِينَ</td>\n",
       "      <td>F:\\Productivity\\Work\\Furqan\\data\\bismillah\\Abd...</td>\n",
       "      <td>4.912109</td>\n",
       "    </tr>\n",
       "    <tr>\n",
       "      <th>1</th>\n",
       "      <td>1</td>\n",
       "      <td>3</td>\n",
       "      <td>الرَّحْمَٰنِ الرَّحِيمِ</td>\n",
       "      <td>F:\\Productivity\\Work\\Furqan\\data\\bismillah\\Abd...</td>\n",
       "      <td>3.736599</td>\n",
       "    </tr>\n",
       "    <tr>\n",
       "      <th>2</th>\n",
       "      <td>1</td>\n",
       "      <td>4</td>\n",
       "      <td>مَالِكِ يَوْمِ الدِّينِ</td>\n",
       "      <td>F:\\Productivity\\Work\\Furqan\\data\\bismillah\\Abd...</td>\n",
       "      <td>4.337415</td>\n",
       "    </tr>\n",
       "    <tr>\n",
       "      <th>3</th>\n",
       "      <td>1</td>\n",
       "      <td>5</td>\n",
       "      <td>إِيَّاكَ نَعْبُدُ وَإِيَّاكَ نَسْتَعِينُ</td>\n",
       "      <td>F:\\Productivity\\Work\\Furqan\\data\\bismillah\\Abd...</td>\n",
       "      <td>5.539048</td>\n",
       "    </tr>\n",
       "    <tr>\n",
       "      <th>4</th>\n",
       "      <td>1</td>\n",
       "      <td>6</td>\n",
       "      <td>اهْدِنَا الصِّرَاطَ الْمُسْتَقِيمَ</td>\n",
       "      <td>F:\\Productivity\\Work\\Furqan\\data\\bismillah\\Abd...</td>\n",
       "      <td>4.494150</td>\n",
       "    </tr>\n",
       "    <tr>\n",
       "      <th>5</th>\n",
       "      <td>1</td>\n",
       "      <td>7</td>\n",
       "      <td>صِرَاطَ الَّذِينَ أَنْعَمْتَ عَلَيْهِمْ غَيْرِ...</td>\n",
       "      <td>F:\\Productivity\\Work\\Furqan\\data\\bismillah\\Abd...</td>\n",
       "      <td>14.028844</td>\n",
       "    </tr>\n",
       "    <tr>\n",
       "      <th>6</th>\n",
       "      <td>2</td>\n",
       "      <td>2</td>\n",
       "      <td>ذَٰلِكَ الْكِتَابُ لَا رَيْبَ ۛ فِيهِ ۛ هُدًى ...</td>\n",
       "      <td>F:\\Productivity\\Work\\Furqan\\data\\bismillah\\Abd...</td>\n",
       "      <td>6.165986</td>\n",
       "    </tr>\n",
       "    <tr>\n",
       "      <th>7</th>\n",
       "      <td>2</td>\n",
       "      <td>3</td>\n",
       "      <td>الَّذِينَ يُؤْمِنُونَ بِالْغَيْبِ وَيُقِيمُونَ...</td>\n",
       "      <td>F:\\Productivity\\Work\\Furqan\\data\\bismillah\\Abd...</td>\n",
       "      <td>8.908844</td>\n",
       "    </tr>\n",
       "    <tr>\n",
       "      <th>8</th>\n",
       "      <td>2</td>\n",
       "      <td>4</td>\n",
       "      <td>وَالَّذِينَ يُؤْمِنُونَ بِمَا أُنْزِلَ إِلَيْك...</td>\n",
       "      <td>F:\\Productivity\\Work\\Furqan\\data\\bismillah\\Abd...</td>\n",
       "      <td>10.868027</td>\n",
       "    </tr>\n",
       "    <tr>\n",
       "      <th>9</th>\n",
       "      <td>2</td>\n",
       "      <td>5</td>\n",
       "      <td>أُولَٰئِكَ عَلَىٰ هُدًى مِنْ رَبِّهِمْ ۖ وَأُو...</td>\n",
       "      <td>F:\\Productivity\\Work\\Furqan\\data\\bismillah\\Abd...</td>\n",
       "      <td>8.360272</td>\n",
       "    </tr>\n",
       "  </tbody>\n",
       "</table>\n",
       "</div>"
      ],
      "text/plain": [
       "   surah_number  aayah_number  \\\n",
       "0             1             2   \n",
       "1             1             3   \n",
       "2             1             4   \n",
       "3             1             5   \n",
       "4             1             6   \n",
       "5             1             7   \n",
       "6             2             2   \n",
       "7             2             3   \n",
       "8             2             4   \n",
       "9             2             5   \n",
       "\n",
       "                                       transcription  \\\n",
       "0              الْحَمْدُ لِلَّهِ رَبِّ الْعَالَمِينَ   \n",
       "1                            الرَّحْمَٰنِ الرَّحِيمِ   \n",
       "2                            مَالِكِ يَوْمِ الدِّينِ   \n",
       "3           إِيَّاكَ نَعْبُدُ وَإِيَّاكَ نَسْتَعِينُ   \n",
       "4                 اهْدِنَا الصِّرَاطَ الْمُسْتَقِيمَ   \n",
       "5  صِرَاطَ الَّذِينَ أَنْعَمْتَ عَلَيْهِمْ غَيْرِ...   \n",
       "6  ذَٰلِكَ الْكِتَابُ لَا رَيْبَ ۛ فِيهِ ۛ هُدًى ...   \n",
       "7  الَّذِينَ يُؤْمِنُونَ بِالْغَيْبِ وَيُقِيمُونَ...   \n",
       "8  وَالَّذِينَ يُؤْمِنُونَ بِمَا أُنْزِلَ إِلَيْك...   \n",
       "9  أُولَٰئِكَ عَلَىٰ هُدًى مِنْ رَبِّهِمْ ۖ وَأُو...   \n",
       "\n",
       "                                           file_path  voice_length  \n",
       "0  F:\\Productivity\\Work\\Furqan\\data\\bismillah\\Abd...      4.912109  \n",
       "1  F:\\Productivity\\Work\\Furqan\\data\\bismillah\\Abd...      3.736599  \n",
       "2  F:\\Productivity\\Work\\Furqan\\data\\bismillah\\Abd...      4.337415  \n",
       "3  F:\\Productivity\\Work\\Furqan\\data\\bismillah\\Abd...      5.539048  \n",
       "4  F:\\Productivity\\Work\\Furqan\\data\\bismillah\\Abd...      4.494150  \n",
       "5  F:\\Productivity\\Work\\Furqan\\data\\bismillah\\Abd...     14.028844  \n",
       "6  F:\\Productivity\\Work\\Furqan\\data\\bismillah\\Abd...      6.165986  \n",
       "7  F:\\Productivity\\Work\\Furqan\\data\\bismillah\\Abd...      8.908844  \n",
       "8  F:\\Productivity\\Work\\Furqan\\data\\bismillah\\Abd...     10.868027  \n",
       "9  F:\\Productivity\\Work\\Furqan\\data\\bismillah\\Abd...      8.360272  "
      ]
     },
     "execution_count": 14,
     "metadata": {},
     "output_type": "execute_result"
    }
   ],
   "source": [
    "combined_df.head(10)"
   ]
  },
  {
   "cell_type": "code",
   "execution_count": 15,
   "metadata": {},
   "outputs": [
    {
     "name": "stderr",
     "output_type": "stream",
     "text": [
      "f:\\Productivity\\Github-Repos\\whisper_transcription\\.venv\\lib\\site-packages\\pandas\\core\\internals\\blocks.py:2540: RuntimeWarning: invalid value encountered in cast\n",
      "  values = values.astype(str)\n"
     ]
    }
   ],
   "source": [
    "combined_df.to_csv('Arabic-Original-no-bismillah-audio-length.csv', index=False)"
   ]
  },
  {
   "cell_type": "code",
   "execution_count": 16,
   "metadata": {},
   "outputs": [
    {
     "data": {
      "text/plain": [
       "surah_number       0\n",
       "aayah_number       0\n",
       "transcription      0\n",
       "file_path          0\n",
       "voice_length     254\n",
       "dtype: int64"
      ]
     },
     "execution_count": 16,
     "metadata": {},
     "output_type": "execute_result"
    }
   ],
   "source": [
    "combined_df.isna().sum()"
   ]
  },
  {
   "cell_type": "code",
   "execution_count": 19,
   "metadata": {},
   "outputs": [],
   "source": [
    "combined_df.dropna().to_csv('Arabic-Original-no-bismillah-audio-length-no-null.csv', index=False)"
   ]
  },
  {
   "cell_type": "code",
   "execution_count": null,
   "metadata": {},
   "outputs": [],
   "source": []
  }
 ],
 "metadata": {
  "kernelspec": {
   "display_name": ".venv",
   "language": "python",
   "name": "python3"
  },
  "language_info": {
   "codemirror_mode": {
    "name": "ipython",
    "version": 3
   },
   "file_extension": ".py",
   "mimetype": "text/x-python",
   "name": "python",
   "nbconvert_exporter": "python",
   "pygments_lexer": "ipython3",
   "version": "3.10.11"
  }
 },
 "nbformat": 4,
 "nbformat_minor": 2
}
