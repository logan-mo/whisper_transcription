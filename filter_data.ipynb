{
 "cells": [
  {
   "cell_type": "markdown",
   "metadata": {},
   "source": [
    "## Remove Bismillah"
   ]
  },
  {
   "cell_type": "code",
   "execution_count": 50,
   "metadata": {},
   "outputs": [],
   "source": [
    "import pandas as pd"
   ]
  },
  {
   "cell_type": "code",
   "execution_count": 51,
   "metadata": {},
   "outputs": [
    {
     "data": {
      "text/html": [
       "<div>\n",
       "<style scoped>\n",
       "    .dataframe tbody tr th:only-of-type {\n",
       "        vertical-align: middle;\n",
       "    }\n",
       "\n",
       "    .dataframe tbody tr th {\n",
       "        vertical-align: top;\n",
       "    }\n",
       "\n",
       "    .dataframe thead th {\n",
       "        text-align: right;\n",
       "    }\n",
       "</style>\n",
       "<table border=\"1\" class=\"dataframe\">\n",
       "  <thead>\n",
       "    <tr style=\"text-align: right;\">\n",
       "      <th></th>\n",
       "      <th>surah_number</th>\n",
       "      <th>aayah_number</th>\n",
       "      <th>transcription</th>\n",
       "    </tr>\n",
       "  </thead>\n",
       "  <tbody>\n",
       "    <tr>\n",
       "      <th>0</th>\n",
       "      <td>1</td>\n",
       "      <td>1</td>\n",
       "      <td>بِسْمِ اللَّهِ الرَّحْمَٰنِ الرَّحِيمِ</td>\n",
       "    </tr>\n",
       "    <tr>\n",
       "      <th>1</th>\n",
       "      <td>1</td>\n",
       "      <td>2</td>\n",
       "      <td>الْحَمْدُ لِلَّهِ رَبِّ الْعَالَمِينَ</td>\n",
       "    </tr>\n",
       "    <tr>\n",
       "      <th>2</th>\n",
       "      <td>1</td>\n",
       "      <td>3</td>\n",
       "      <td>الرَّحْمَٰنِ الرَّحِيمِ</td>\n",
       "    </tr>\n",
       "    <tr>\n",
       "      <th>3</th>\n",
       "      <td>1</td>\n",
       "      <td>4</td>\n",
       "      <td>مَالِكِ يَوْمِ الدِّينِ</td>\n",
       "    </tr>\n",
       "    <tr>\n",
       "      <th>4</th>\n",
       "      <td>1</td>\n",
       "      <td>5</td>\n",
       "      <td>إِيَّاكَ نَعْبُدُ وَإِيَّاكَ نَسْتَعِينُ</td>\n",
       "    </tr>\n",
       "    <tr>\n",
       "      <th>5</th>\n",
       "      <td>1</td>\n",
       "      <td>6</td>\n",
       "      <td>اهْدِنَا الصِّرَاطَ الْمُسْتَقِيمَ</td>\n",
       "    </tr>\n",
       "    <tr>\n",
       "      <th>6</th>\n",
       "      <td>1</td>\n",
       "      <td>7</td>\n",
       "      <td>صِرَاطَ الَّذِينَ أَنْعَمْتَ عَلَيْهِمْ غَيْرِ...</td>\n",
       "    </tr>\n",
       "    <tr>\n",
       "      <th>7</th>\n",
       "      <td>2</td>\n",
       "      <td>1</td>\n",
       "      <td>بِسْمِ اللَّهِ الرَّحْمَٰنِ الرَّحِيمِ الم</td>\n",
       "    </tr>\n",
       "    <tr>\n",
       "      <th>8</th>\n",
       "      <td>2</td>\n",
       "      <td>2</td>\n",
       "      <td>ذَٰلِكَ الْكِتَابُ لَا رَيْبَ ۛ فِيهِ ۛ هُدًى ...</td>\n",
       "    </tr>\n",
       "    <tr>\n",
       "      <th>9</th>\n",
       "      <td>2</td>\n",
       "      <td>3</td>\n",
       "      <td>الَّذِينَ يُؤْمِنُونَ بِالْغَيْبِ وَيُقِيمُونَ...</td>\n",
       "    </tr>\n",
       "  </tbody>\n",
       "</table>\n",
       "</div>"
      ],
      "text/plain": [
       "   surah_number  aayah_number  \\\n",
       "0             1             1   \n",
       "1             1             2   \n",
       "2             1             3   \n",
       "3             1             4   \n",
       "4             1             5   \n",
       "5             1             6   \n",
       "6             1             7   \n",
       "7             2             1   \n",
       "8             2             2   \n",
       "9             2             3   \n",
       "\n",
       "                                       transcription  \n",
       "0             بِسْمِ اللَّهِ الرَّحْمَٰنِ الرَّحِيمِ  \n",
       "1              الْحَمْدُ لِلَّهِ رَبِّ الْعَالَمِينَ  \n",
       "2                            الرَّحْمَٰنِ الرَّحِيمِ  \n",
       "3                            مَالِكِ يَوْمِ الدِّينِ  \n",
       "4           إِيَّاكَ نَعْبُدُ وَإِيَّاكَ نَسْتَعِينُ  \n",
       "5                 اهْدِنَا الصِّرَاطَ الْمُسْتَقِيمَ  \n",
       "6  صِرَاطَ الَّذِينَ أَنْعَمْتَ عَلَيْهِمْ غَيْرِ...  \n",
       "7         بِسْمِ اللَّهِ الرَّحْمَٰنِ الرَّحِيمِ الم  \n",
       "8  ذَٰلِكَ الْكِتَابُ لَا رَيْبَ ۛ فِيهِ ۛ هُدًى ...  \n",
       "9  الَّذِينَ يُؤْمِنُونَ بِالْغَيْبِ وَيُقِيمُونَ...  "
      ]
     },
     "execution_count": 51,
     "metadata": {},
     "output_type": "execute_result"
    }
   ],
   "source": [
    "df = pd.read_csv('Arabic-Original.csv', header=None, names=['surah_number', 'aayah_number', 'transcription'], delimiter='|')\n",
    "\n",
    "df.head(10)"
   ]
  },
  {
   "cell_type": "code",
   "execution_count": 52,
   "metadata": {},
   "outputs": [
    {
     "data": {
      "text/plain": [
       "(6236, 3)"
      ]
     },
     "execution_count": 52,
     "metadata": {},
     "output_type": "execute_result"
    }
   ],
   "source": [
    "df.shape"
   ]
  },
  {
   "cell_type": "code",
   "execution_count": 53,
   "metadata": {},
   "outputs": [],
   "source": [
    "df = df.query('aayah_number != 1')"
   ]
  },
  {
   "cell_type": "code",
   "execution_count": 54,
   "metadata": {},
   "outputs": [
    {
     "data": {
      "text/plain": [
       "(6122, 3)"
      ]
     },
     "execution_count": 54,
     "metadata": {},
     "output_type": "execute_result"
    }
   ],
   "source": [
    "df.shape"
   ]
  },
  {
   "cell_type": "code",
   "execution_count": 55,
   "metadata": {},
   "outputs": [],
   "source": [
    "df.to_csv('Arabic-Original-no-bismillah.csv', index=False)"
   ]
  },
  {
   "cell_type": "code",
   "execution_count": null,
   "metadata": {},
   "outputs": [],
   "source": []
  },
  {
   "cell_type": "markdown",
   "metadata": {},
   "source": [
    "## Create transcription dataset file"
   ]
  },
  {
   "cell_type": "code",
   "execution_count": 56,
   "metadata": {},
   "outputs": [],
   "source": [
    "import pandas as pd\n",
    "import os\n",
    "import glob\n",
    "import librosa"
   ]
  },
  {
   "cell_type": "code",
   "execution_count": 57,
   "metadata": {},
   "outputs": [
    {
     "data": {
      "text/html": [
       "<div>\n",
       "<style scoped>\n",
       "    .dataframe tbody tr th:only-of-type {\n",
       "        vertical-align: middle;\n",
       "    }\n",
       "\n",
       "    .dataframe tbody tr th {\n",
       "        vertical-align: top;\n",
       "    }\n",
       "\n",
       "    .dataframe thead th {\n",
       "        text-align: right;\n",
       "    }\n",
       "</style>\n",
       "<table border=\"1\" class=\"dataframe\">\n",
       "  <thead>\n",
       "    <tr style=\"text-align: right;\">\n",
       "      <th></th>\n",
       "      <th>surah_number</th>\n",
       "      <th>aayah_number</th>\n",
       "      <th>transcription</th>\n",
       "    </tr>\n",
       "  </thead>\n",
       "  <tbody>\n",
       "    <tr>\n",
       "      <th>0</th>\n",
       "      <td>1</td>\n",
       "      <td>2</td>\n",
       "      <td>الْحَمْدُ لِلَّهِ رَبِّ الْعَالَمِينَ</td>\n",
       "    </tr>\n",
       "    <tr>\n",
       "      <th>1</th>\n",
       "      <td>1</td>\n",
       "      <td>3</td>\n",
       "      <td>الرَّحْمَٰنِ الرَّحِيمِ</td>\n",
       "    </tr>\n",
       "    <tr>\n",
       "      <th>2</th>\n",
       "      <td>1</td>\n",
       "      <td>4</td>\n",
       "      <td>مَالِكِ يَوْمِ الدِّينِ</td>\n",
       "    </tr>\n",
       "    <tr>\n",
       "      <th>3</th>\n",
       "      <td>1</td>\n",
       "      <td>5</td>\n",
       "      <td>إِيَّاكَ نَعْبُدُ وَإِيَّاكَ نَسْتَعِينُ</td>\n",
       "    </tr>\n",
       "    <tr>\n",
       "      <th>4</th>\n",
       "      <td>1</td>\n",
       "      <td>6</td>\n",
       "      <td>اهْدِنَا الصِّرَاطَ الْمُسْتَقِيمَ</td>\n",
       "    </tr>\n",
       "    <tr>\n",
       "      <th>5</th>\n",
       "      <td>1</td>\n",
       "      <td>7</td>\n",
       "      <td>صِرَاطَ الَّذِينَ أَنْعَمْتَ عَلَيْهِمْ غَيْرِ...</td>\n",
       "    </tr>\n",
       "    <tr>\n",
       "      <th>6</th>\n",
       "      <td>2</td>\n",
       "      <td>2</td>\n",
       "      <td>ذَٰلِكَ الْكِتَابُ لَا رَيْبَ ۛ فِيهِ ۛ هُدًى ...</td>\n",
       "    </tr>\n",
       "    <tr>\n",
       "      <th>7</th>\n",
       "      <td>2</td>\n",
       "      <td>3</td>\n",
       "      <td>الَّذِينَ يُؤْمِنُونَ بِالْغَيْبِ وَيُقِيمُونَ...</td>\n",
       "    </tr>\n",
       "    <tr>\n",
       "      <th>8</th>\n",
       "      <td>2</td>\n",
       "      <td>4</td>\n",
       "      <td>وَالَّذِينَ يُؤْمِنُونَ بِمَا أُنْزِلَ إِلَيْك...</td>\n",
       "    </tr>\n",
       "    <tr>\n",
       "      <th>9</th>\n",
       "      <td>2</td>\n",
       "      <td>5</td>\n",
       "      <td>أُولَٰئِكَ عَلَىٰ هُدًى مِنْ رَبِّهِمْ ۖ وَأُو...</td>\n",
       "    </tr>\n",
       "  </tbody>\n",
       "</table>\n",
       "</div>"
      ],
      "text/plain": [
       "   surah_number  aayah_number  \\\n",
       "0             1             2   \n",
       "1             1             3   \n",
       "2             1             4   \n",
       "3             1             5   \n",
       "4             1             6   \n",
       "5             1             7   \n",
       "6             2             2   \n",
       "7             2             3   \n",
       "8             2             4   \n",
       "9             2             5   \n",
       "\n",
       "                                       transcription  \n",
       "0              الْحَمْدُ لِلَّهِ رَبِّ الْعَالَمِينَ  \n",
       "1                            الرَّحْمَٰنِ الرَّحِيمِ  \n",
       "2                            مَالِكِ يَوْمِ الدِّينِ  \n",
       "3           إِيَّاكَ نَعْبُدُ وَإِيَّاكَ نَسْتَعِينُ  \n",
       "4                 اهْدِنَا الصِّرَاطَ الْمُسْتَقِيمَ  \n",
       "5  صِرَاطَ الَّذِينَ أَنْعَمْتَ عَلَيْهِمْ غَيْرِ...  \n",
       "6  ذَٰلِكَ الْكِتَابُ لَا رَيْبَ ۛ فِيهِ ۛ هُدًى ...  \n",
       "7  الَّذِينَ يُؤْمِنُونَ بِالْغَيْبِ وَيُقِيمُونَ...  \n",
       "8  وَالَّذِينَ يُؤْمِنُونَ بِمَا أُنْزِلَ إِلَيْك...  \n",
       "9  أُولَٰئِكَ عَلَىٰ هُدًى مِنْ رَبِّهِمْ ۖ وَأُو...  "
      ]
     },
     "execution_count": 57,
     "metadata": {},
     "output_type": "execute_result"
    }
   ],
   "source": [
    "df = pd.read_csv('Arabic-Original-no-bismillah.csv')\n",
    "df.head(10)"
   ]
  },
  {
   "cell_type": "code",
   "execution_count": 58,
   "metadata": {},
   "outputs": [
    {
     "data": {
      "text/plain": [
       "(6122, 3)"
      ]
     },
     "execution_count": 58,
     "metadata": {},
     "output_type": "execute_result"
    }
   ],
   "source": [
    "df.shape"
   ]
  },
  {
   "cell_type": "code",
   "execution_count": 63,
   "metadata": {},
   "outputs": [],
   "source": [
    "base_dir = 'F:\\\\Productivity\\\\Work\\\\Furqan\\\\data\\\\bismillah'"
   ]
  },
  {
   "cell_type": "code",
   "execution_count": null,
   "metadata": {},
   "outputs": [],
   "source": [
    "imam_items = os.listdir(base_dir)\n",
    "imam_dirs = [item for item in imam_items if os.path.isdir(os.path.join(base_dir, item))]\n",
    "imam_dirs"
   ]
  },
  {
   "cell_type": "code",
   "execution_count": 84,
   "metadata": {},
   "outputs": [],
   "source": [
    "def get_aayah_df(imam_dir):\n",
    "    aayah_files = glob.glob(os.path.join(base_dir, imam_dir, '*.mp3'))\n",
    "    df = pd.DataFrame(aayah_files, columns=['file_path'])\n",
    "    df = pd.DataFrame(df['file_path'].str.split('\\\\', expand=True)[7])\n",
    "    df = pd.DataFrame(df[7].str.replace('.mp3', '').str.split('_', expand=True),).rename(columns={0: 'surah_number', 1: 'aayah_number'})\n",
    "    df['file_path'] = aayah_files \n",
    "    df['surah_number'] = df['surah_number'].astype(int)\n",
    "    df['aayah_number'] = df['aayah_number'].astype(int)\n",
    "    return df\n",
    "\n",
    "def get_voice_length(file_path):\n",
    "    y, sr = librosa.load(file_path)\n",
    "    return librosa.get_duration(y=y, sr=sr)"
   ]
  },
  {
   "cell_type": "code",
   "execution_count": 91,
   "metadata": {},
   "outputs": [],
   "source": [
    "combined_df = None\n",
    "\n",
    "for i in range(len(imam_dirs)):\n",
    "    df_imam = get_aayah_df(imam_dirs[i])\n",
    "\n",
    "    df_imam = pd.merge(df, df_imam, on=['surah_number', 'aayah_number'])\n",
    "\n",
    "    if combined_df is None:\n",
    "        combined_df = df_imam\n",
    "        \n",
    "    else:\n",
    "        combined_df = pd.concat([combined_df, df_imam], ignore_index=True)"
   ]
  },
  {
   "cell_type": "code",
   "execution_count": 92,
   "metadata": {},
   "outputs": [
    {
     "data": {
      "text/html": [
       "<div>\n",
       "<style scoped>\n",
       "    .dataframe tbody tr th:only-of-type {\n",
       "        vertical-align: middle;\n",
       "    }\n",
       "\n",
       "    .dataframe tbody tr th {\n",
       "        vertical-align: top;\n",
       "    }\n",
       "\n",
       "    .dataframe thead th {\n",
       "        text-align: right;\n",
       "    }\n",
       "</style>\n",
       "<table border=\"1\" class=\"dataframe\">\n",
       "  <thead>\n",
       "    <tr style=\"text-align: right;\">\n",
       "      <th></th>\n",
       "      <th>surah_number</th>\n",
       "      <th>aayah_number</th>\n",
       "      <th>transcription</th>\n",
       "      <th>file_path</th>\n",
       "    </tr>\n",
       "  </thead>\n",
       "  <tbody>\n",
       "    <tr>\n",
       "      <th>0</th>\n",
       "      <td>1</td>\n",
       "      <td>2</td>\n",
       "      <td>الْحَمْدُ لِلَّهِ رَبِّ الْعَالَمِينَ</td>\n",
       "      <td>F:\\Productivity\\Work\\Furqan\\data\\bismillah\\Abd...</td>\n",
       "    </tr>\n",
       "    <tr>\n",
       "      <th>1</th>\n",
       "      <td>1</td>\n",
       "      <td>3</td>\n",
       "      <td>الرَّحْمَٰنِ الرَّحِيمِ</td>\n",
       "      <td>F:\\Productivity\\Work\\Furqan\\data\\bismillah\\Abd...</td>\n",
       "    </tr>\n",
       "    <tr>\n",
       "      <th>2</th>\n",
       "      <td>1</td>\n",
       "      <td>4</td>\n",
       "      <td>مَالِكِ يَوْمِ الدِّينِ</td>\n",
       "      <td>F:\\Productivity\\Work\\Furqan\\data\\bismillah\\Abd...</td>\n",
       "    </tr>\n",
       "    <tr>\n",
       "      <th>3</th>\n",
       "      <td>1</td>\n",
       "      <td>5</td>\n",
       "      <td>إِيَّاكَ نَعْبُدُ وَإِيَّاكَ نَسْتَعِينُ</td>\n",
       "      <td>F:\\Productivity\\Work\\Furqan\\data\\bismillah\\Abd...</td>\n",
       "    </tr>\n",
       "    <tr>\n",
       "      <th>4</th>\n",
       "      <td>1</td>\n",
       "      <td>6</td>\n",
       "      <td>اهْدِنَا الصِّرَاطَ الْمُسْتَقِيمَ</td>\n",
       "      <td>F:\\Productivity\\Work\\Furqan\\data\\bismillah\\Abd...</td>\n",
       "    </tr>\n",
       "    <tr>\n",
       "      <th>5</th>\n",
       "      <td>1</td>\n",
       "      <td>7</td>\n",
       "      <td>صِرَاطَ الَّذِينَ أَنْعَمْتَ عَلَيْهِمْ غَيْرِ...</td>\n",
       "      <td>F:\\Productivity\\Work\\Furqan\\data\\bismillah\\Abd...</td>\n",
       "    </tr>\n",
       "    <tr>\n",
       "      <th>6</th>\n",
       "      <td>2</td>\n",
       "      <td>2</td>\n",
       "      <td>ذَٰلِكَ الْكِتَابُ لَا رَيْبَ ۛ فِيهِ ۛ هُدًى ...</td>\n",
       "      <td>F:\\Productivity\\Work\\Furqan\\data\\bismillah\\Abd...</td>\n",
       "    </tr>\n",
       "    <tr>\n",
       "      <th>7</th>\n",
       "      <td>2</td>\n",
       "      <td>3</td>\n",
       "      <td>الَّذِينَ يُؤْمِنُونَ بِالْغَيْبِ وَيُقِيمُونَ...</td>\n",
       "      <td>F:\\Productivity\\Work\\Furqan\\data\\bismillah\\Abd...</td>\n",
       "    </tr>\n",
       "    <tr>\n",
       "      <th>8</th>\n",
       "      <td>2</td>\n",
       "      <td>4</td>\n",
       "      <td>وَالَّذِينَ يُؤْمِنُونَ بِمَا أُنْزِلَ إِلَيْك...</td>\n",
       "      <td>F:\\Productivity\\Work\\Furqan\\data\\bismillah\\Abd...</td>\n",
       "    </tr>\n",
       "    <tr>\n",
       "      <th>9</th>\n",
       "      <td>2</td>\n",
       "      <td>5</td>\n",
       "      <td>أُولَٰئِكَ عَلَىٰ هُدًى مِنْ رَبِّهِمْ ۖ وَأُو...</td>\n",
       "      <td>F:\\Productivity\\Work\\Furqan\\data\\bismillah\\Abd...</td>\n",
       "    </tr>\n",
       "  </tbody>\n",
       "</table>\n",
       "</div>"
      ],
      "text/plain": [
       "   surah_number  aayah_number  \\\n",
       "0             1             2   \n",
       "1             1             3   \n",
       "2             1             4   \n",
       "3             1             5   \n",
       "4             1             6   \n",
       "5             1             7   \n",
       "6             2             2   \n",
       "7             2             3   \n",
       "8             2             4   \n",
       "9             2             5   \n",
       "\n",
       "                                       transcription  \\\n",
       "0              الْحَمْدُ لِلَّهِ رَبِّ الْعَالَمِينَ   \n",
       "1                            الرَّحْمَٰنِ الرَّحِيمِ   \n",
       "2                            مَالِكِ يَوْمِ الدِّينِ   \n",
       "3           إِيَّاكَ نَعْبُدُ وَإِيَّاكَ نَسْتَعِينُ   \n",
       "4                 اهْدِنَا الصِّرَاطَ الْمُسْتَقِيمَ   \n",
       "5  صِرَاطَ الَّذِينَ أَنْعَمْتَ عَلَيْهِمْ غَيْرِ...   \n",
       "6  ذَٰلِكَ الْكِتَابُ لَا رَيْبَ ۛ فِيهِ ۛ هُدًى ...   \n",
       "7  الَّذِينَ يُؤْمِنُونَ بِالْغَيْبِ وَيُقِيمُونَ...   \n",
       "8  وَالَّذِينَ يُؤْمِنُونَ بِمَا أُنْزِلَ إِلَيْك...   \n",
       "9  أُولَٰئِكَ عَلَىٰ هُدًى مِنْ رَبِّهِمْ ۖ وَأُو...   \n",
       "\n",
       "                                           file_path  \n",
       "0  F:\\Productivity\\Work\\Furqan\\data\\bismillah\\Abd...  \n",
       "1  F:\\Productivity\\Work\\Furqan\\data\\bismillah\\Abd...  \n",
       "2  F:\\Productivity\\Work\\Furqan\\data\\bismillah\\Abd...  \n",
       "3  F:\\Productivity\\Work\\Furqan\\data\\bismillah\\Abd...  \n",
       "4  F:\\Productivity\\Work\\Furqan\\data\\bismillah\\Abd...  \n",
       "5  F:\\Productivity\\Work\\Furqan\\data\\bismillah\\Abd...  \n",
       "6  F:\\Productivity\\Work\\Furqan\\data\\bismillah\\Abd...  \n",
       "7  F:\\Productivity\\Work\\Furqan\\data\\bismillah\\Abd...  \n",
       "8  F:\\Productivity\\Work\\Furqan\\data\\bismillah\\Abd...  \n",
       "9  F:\\Productivity\\Work\\Furqan\\data\\bismillah\\Abd...  "
      ]
     },
     "execution_count": 92,
     "metadata": {},
     "output_type": "execute_result"
    }
   ],
   "source": [
    "combined_df.head(10)"
   ]
  },
  {
   "cell_type": "code",
   "execution_count": 96,
   "metadata": {},
   "outputs": [
    {
     "data": {
      "text/plain": [
       "(147804, 4)"
      ]
     },
     "execution_count": 96,
     "metadata": {},
     "output_type": "execute_result"
    }
   ],
   "source": [
    "combined_df.shape"
   ]
  },
  {
   "cell_type": "code",
   "execution_count": null,
   "metadata": {},
   "outputs": [],
   "source": [
    "final_df = None"
   ]
  },
  {
   "cell_type": "code",
   "execution_count": 98,
   "metadata": {},
   "outputs": [],
   "source": [
    "combined_df['voice_length'] = None"
   ]
  },
  {
   "cell_type": "code",
   "execution_count": null,
   "metadata": {},
   "outputs": [],
   "source": [
    "for i in range(len(combined_df)):\n",
    "    file_path = combined_df.iloc[i]['file_path']\n",
    "    try:\n",
    "        voice_length = get_voice_length(file_path)\n",
    "        combined_df.at[i, 'voice_length'] = voice_length\n",
    "    except Exception as e:\n",
    "        print(f\"Error in file: {file_path}\")\n",
    "        continue"
   ]
  },
  {
   "cell_type": "code",
   "execution_count": null,
   "metadata": {},
   "outputs": [],
   "source": [
    "combined_df['audio_length'] = combined_df['file_path'].apply(get_voice_length)"
   ]
  },
  {
   "cell_type": "code",
   "execution_count": null,
   "metadata": {},
   "outputs": [],
   "source": [
    "combined_df.head(10)"
   ]
  },
  {
   "cell_type": "code",
   "execution_count": null,
   "metadata": {},
   "outputs": [],
   "source": [
    "combined_df.to_csv('Arabic-Original-no-bismillah-audio-length.csv', index=False)"
   ]
  },
  {
   "cell_type": "code",
   "execution_count": null,
   "metadata": {},
   "outputs": [],
   "source": []
  }
 ],
 "metadata": {
  "kernelspec": {
   "display_name": ".venv",
   "language": "python",
   "name": "python3"
  },
  "language_info": {
   "codemirror_mode": {
    "name": "ipython",
    "version": 3
   },
   "file_extension": ".py",
   "mimetype": "text/x-python",
   "name": "python",
   "nbconvert_exporter": "python",
   "pygments_lexer": "ipython3",
   "version": "3.10.11"
  }
 },
 "nbformat": 4,
 "nbformat_minor": 2
}
